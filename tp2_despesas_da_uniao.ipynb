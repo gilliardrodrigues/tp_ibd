{
  "nbformat": 4,
  "nbformat_minor": 0,
  "metadata": {
    "kernelspec": {
      "display_name": "Python 3",
      "language": "python",
      "name": "python3"
    },
    "language_info": {
      "codemirror_mode": {
        "name": "ipython",
        "version": 3
      },
      "file_extension": ".py",
      "mimetype": "text/x-python",
      "name": "python",
      "nbconvert_exporter": "python",
      "pygments_lexer": "ipython3",
      "version": "3.6.3"
    },
    "colab": {
      "name": "tp2_despesas_da_uniao.ipynb",
      "provenance": [],
      "collapsed_sections": []
    }
  },
  "cells": [
    {
      "cell_type": "markdown",
      "metadata": {
        "id": "qjKIf0quMsx4"
      },
      "source": [
        "# 1. Título\n",
        "Despesas e Transferências Totais da União (critério valor pago)"
      ]
    },
    {
      "cell_type": "markdown",
      "metadata": {
        "id": "mNHpCJkSMsx5"
      },
      "source": [
        "# 2. Membros (nome e número de matrícula)\n",
        "Ana Carolina Gonçalves (2019436757)\n",
        "\n",
        "\n",
        "Euller Saez Lage Silva (2019054501)\n",
        "\n",
        "\n",
        "Fernanda Carolina da Silva Pereira (2019431380)\n",
        "\n",
        "\n",
        "Gilliard Gabriel Rodrigues (2019054609)\n",
        "\n",
        "\n",
        "Samuel William Almeida Santos (2019054978)"
      ]
    },
    {
      "cell_type": "markdown",
      "metadata": {
        "id": "UtkUm0znMsx6"
      },
      "source": [
        "# 3. Descrição dos dados (qual a URL? qual o domínio? como os dados foram processados?)"
      ]
    },
    {
      "cell_type": "markdown",
      "metadata": {
        "id": "4bHeh_XdmXDC"
      },
      "source": [
        "Observação: conforme comentado no vídeo de apresentação (https://www.youtube.com/watch?v=Kwy2BuRcArQ), as colunas criadas foram ORCAMENTO.COD_DETALHAMENTO (concatenando as colunas de FUNCAO.ID_FUNCAO_PT e SUBFUNCAO.ID_SUBFUNCAO_PT) e ORCAMENTO.UNIDADE_ORCAMENTARIA_TIPO (pegando apenas a primeira palavra contida na coluna ORCAMENTO.UNIDADE_ORCAMENTARIA_DESCRICAO)"
      ]
    },
    {
      "cell_type": "code",
      "metadata": {
        "id": "J9jc4WT4X7QW",
        "outputId": "04a0bbe7-79dd-4a6a-8c58-6f54da96de14",
        "colab": {
          "base_uri": "https://localhost:8080/",
          "height": 551
        }
      },
      "source": [
        "import pandas as pd\n",
        "import sqlite3\n",
        "import sqlalchemy\n",
        "\n",
        "dfTotal = pd.read_csv('https://raw.githubusercontent.com/SamuelWas/Trabalho2IBD/main/dataset.csv', error_bad_lines=False, sep=';')\n",
        "conn = sqlite3.connect('DespesasUniao.db')\n",
        "c = conn.cursor()\n",
        "dfTotal.head()"
      ],
      "execution_count": null,
      "outputs": [
        {
          "output_type": "execute_result",
          "data": {
            "text/html": [
              "<div>\n",
              "<style scoped>\n",
              "    .dataframe tbody tr th:only-of-type {\n",
              "        vertical-align: middle;\n",
              "    }\n",
              "\n",
              "    .dataframe tbody tr th {\n",
              "        vertical-align: top;\n",
              "    }\n",
              "\n",
              "    .dataframe thead th {\n",
              "        text-align: right;\n",
              "    }\n",
              "</style>\n",
              "<table border=\"1\" class=\"dataframe\">\n",
              "  <thead>\n",
              "    <tr style=\"text-align: right;\">\n",
              "      <th></th>\n",
              "      <th>COD_DESPESA</th>\n",
              "      <th>DESPESAS_PAGAS</th>\n",
              "      <th>RESTOS_A_PAGAR_PAGOS</th>\n",
              "      <th>PAGAMENTOS_TOTAIS</th>\n",
              "      <th>ORGAO_CODIGO</th>\n",
              "      <th>ORGAO_DESCRICAO</th>\n",
              "      <th>UNIDADE_ORCAMENTARIA_CODIGO</th>\n",
              "      <th>UNIDADE_ORCAMENTARIA_DESCRICAO</th>\n",
              "      <th>UNIDADE_ORCAMENTARIA_TIPO</th>\n",
              "      <th>COD_DETALHAMENTO</th>\n",
              "      <th>ID_FUNCAO_PT</th>\n",
              "      <th>NO_FUNCAO_PT</th>\n",
              "      <th>ID_SUBFUNCAO_PT</th>\n",
              "      <th>NO_SUBFUNCAO_PT</th>\n",
              "      <th>ID_PROGRAMA_PT</th>\n",
              "      <th>NO_PROGRAMA_PT</th>\n",
              "      <th>ACAO</th>\n",
              "      <th>PRIMARIA_FINANCEIRA</th>\n",
              "      <th>PODER</th>\n",
              "      <th>TRATAMENTO</th>\n",
              "      <th>NO_ACAO</th>\n",
              "      <th>ID_ANO</th>\n",
              "      <th>ID_MES</th>\n",
              "    </tr>\n",
              "  </thead>\n",
              "  <tbody>\n",
              "    <tr>\n",
              "      <th>0</th>\n",
              "      <td>464879</td>\n",
              "      <td>17863,97</td>\n",
              "      <td>0</td>\n",
              "      <td>17863,97</td>\n",
              "      <td>26000</td>\n",
              "      <td>MINISTERIO DA EDUCACAO</td>\n",
              "      <td>26249</td>\n",
              "      <td>UNIVERSIDADE FEDERAL RURAL DO RIO DE JANEIRO</td>\n",
              "      <td>UNIVERSIDADE</td>\n",
              "      <td>12364</td>\n",
              "      <td>12</td>\n",
              "      <td>EDUCACAO</td>\n",
              "      <td>364</td>\n",
              "      <td>ENSINO SUPERIOR</td>\n",
              "      <td>32</td>\n",
              "      <td>PROGRAMA DE GESTAO E MANUTENCAO DO PODER EXECU...</td>\n",
              "      <td>20TP</td>\n",
              "      <td>Primária</td>\n",
              "      <td>EXE</td>\n",
              "      <td>Despesa sujeita ao teto</td>\n",
              "      <td>ATIVOS CIVIS DA UNIAO</td>\n",
              "      <td>2020</td>\n",
              "      <td>1</td>\n",
              "    </tr>\n",
              "    <tr>\n",
              "      <th>1</th>\n",
              "      <td>464880</td>\n",
              "      <td>5183837,69</td>\n",
              "      <td>0</td>\n",
              "      <td>5183837,69</td>\n",
              "      <td>59000</td>\n",
              "      <td>CONSELHO NACIONAL DO MINISTERIO PUBLICO</td>\n",
              "      <td>59101</td>\n",
              "      <td>CONSELHO NACIONAL DO MINISTERIO PUBLICOCNMP</td>\n",
              "      <td>CONSELHO</td>\n",
              "      <td>3122</td>\n",
              "      <td>3</td>\n",
              "      <td>ESSENCIAL A JUSTICA</td>\n",
              "      <td>122</td>\n",
              "      <td>ADMINISTRACAO GERAL</td>\n",
              "      <td>31</td>\n",
              "      <td>PROGRAMA DE GESTAO E MANUTENCAO DO MINISTERIO ...</td>\n",
              "      <td>20TP</td>\n",
              "      <td>Primária</td>\n",
              "      <td>CNMP</td>\n",
              "      <td>Despesa sujeita ao teto</td>\n",
              "      <td>ATIVOS CIVIS DA UNIAO</td>\n",
              "      <td>2020</td>\n",
              "      <td>1</td>\n",
              "    </tr>\n",
              "    <tr>\n",
              "      <th>2</th>\n",
              "      <td>464881</td>\n",
              "      <td>890150,16</td>\n",
              "      <td>0</td>\n",
              "      <td>890150,16</td>\n",
              "      <td>26000</td>\n",
              "      <td>MINISTERIO DA EDUCACAO</td>\n",
              "      <td>26284</td>\n",
              "      <td>FUN.UNIV.FED.DE CIENCIAS DA SAUDE DE P.ALEGRE</td>\n",
              "      <td>FUN.UNIV.FED.DE</td>\n",
              "      <td>12364</td>\n",
              "      <td>12</td>\n",
              "      <td>EDUCACAO</td>\n",
              "      <td>364</td>\n",
              "      <td>ENSINO SUPERIOR</td>\n",
              "      <td>32</td>\n",
              "      <td>PROGRAMA DE GESTAO E MANUTENCAO DO PODER EXECU...</td>\n",
              "      <td>20TP</td>\n",
              "      <td>Primária</td>\n",
              "      <td>EXE</td>\n",
              "      <td>Despesa sujeita ao teto</td>\n",
              "      <td>ATIVOS CIVIS DA UNIAO</td>\n",
              "      <td>2020</td>\n",
              "      <td>1</td>\n",
              "    </tr>\n",
              "    <tr>\n",
              "      <th>3</th>\n",
              "      <td>464882</td>\n",
              "      <td>0</td>\n",
              "      <td>14378992,13</td>\n",
              "      <td>14378992,13</td>\n",
              "      <td>26000</td>\n",
              "      <td>MINISTERIO DA EDUCACAO</td>\n",
              "      <td>26413</td>\n",
              "      <td>INST.FED.DE EDUC.,CIENC.E TEC.DO TRIA.MINEIRO</td>\n",
              "      <td>INST.FED.DE</td>\n",
              "      <td>12363</td>\n",
              "      <td>12</td>\n",
              "      <td>EDUCACAO</td>\n",
              "      <td>363</td>\n",
              "      <td>ENSINO PROFISSIONAL</td>\n",
              "      <td>2109</td>\n",
              "      <td>PROGRAMA DE GESTAO E MANUTENCAO DO MINISTERIO ...</td>\n",
              "      <td>20TP</td>\n",
              "      <td>Primária</td>\n",
              "      <td>EXE</td>\n",
              "      <td>Despesa sujeita ao teto</td>\n",
              "      <td>ATIVOS CIVIS DA UNIAO</td>\n",
              "      <td>2020</td>\n",
              "      <td>1</td>\n",
              "    </tr>\n",
              "    <tr>\n",
              "      <th>4</th>\n",
              "      <td>464883</td>\n",
              "      <td>0</td>\n",
              "      <td>16413567,93</td>\n",
              "      <td>16413567,93</td>\n",
              "      <td>26000</td>\n",
              "      <td>MINISTERIO DA EDUCACAO</td>\n",
              "      <td>26410</td>\n",
              "      <td>INST.FED.DE EDUC.,CIENC.E TEC.DO NORTE DE MG</td>\n",
              "      <td>INST.FED.DE</td>\n",
              "      <td>12363</td>\n",
              "      <td>12</td>\n",
              "      <td>EDUCACAO</td>\n",
              "      <td>363</td>\n",
              "      <td>ENSINO PROFISSIONAL</td>\n",
              "      <td>2109</td>\n",
              "      <td>PROGRAMA DE GESTAO E MANUTENCAO DO MINISTERIO ...</td>\n",
              "      <td>20TP</td>\n",
              "      <td>Primária</td>\n",
              "      <td>EXE</td>\n",
              "      <td>Despesa sujeita ao teto</td>\n",
              "      <td>ATIVOS CIVIS DA UNIAO</td>\n",
              "      <td>2020</td>\n",
              "      <td>1</td>\n",
              "    </tr>\n",
              "  </tbody>\n",
              "</table>\n",
              "</div>"
            ],
            "text/plain": [
              "   COD_DESPESA DESPESAS_PAGAS  ... ID_ANO ID_MES\n",
              "0       464879       17863,97  ...   2020      1\n",
              "1       464880     5183837,69  ...   2020      1\n",
              "2       464881      890150,16  ...   2020      1\n",
              "3       464882              0  ...   2020      1\n",
              "4       464883              0  ...   2020      1\n",
              "\n",
              "[5 rows x 23 columns]"
            ]
          },
          "metadata": {
            "tags": []
          },
          "execution_count": 42
        }
      ]
    },
    {
      "cell_type": "code",
      "metadata": {
        "id": "IaMeO3kYjpni",
        "outputId": "c776fbf8-9540-4860-f523-c7165c595a9c",
        "colab": {
          "base_uri": "https://localhost:8080/",
          "height": 195
        }
      },
      "source": [
        "# c.execute('DROP TABLE DESPESA')\n",
        "\n",
        "#DESPESA\n",
        "sql_table = '''\n",
        "CREATE TABLE DESPESA \n",
        "  (COD_DESPESA INT,\n",
        "  DESPESAS_PAGAS REAL, \n",
        "  RESTOS_A_PAGAR_PAGOS, \n",
        "  PAGAMENTOS_TOTAIS INT, \n",
        "  ID_ANO INT, \n",
        "  ID_MES INT, \n",
        "  UNIDADE_ORCAMENTARIA_CODIGO INT,\n",
        "  COD_DETALHAMENTO INT,\n",
        "  ORGAO_CODIGO INT,\n",
        "  ACAO,\n",
        "  ID_PROGRAMA_PT, INT)\n",
        "'''\n",
        "c.execute(sql_table)\n",
        "df = pd.DataFrame(dfTotal, columns=['COD_DESPESA', 'DESPESAS_PAGAS', 'RESTOS_A_PAGAR_PAGOS', 'PAGAMENTOS_TOTAIS',\n",
        "                                    'ID_ANO', 'ID_MES', 'UNIDADE_ORCAMENTARIA_CODIGO', 'COD_DETALHAMENTO', 'ORGAO_CODIGO', 'ACAO', 'ID_PROGRAMA_PT'])\n",
        "df.drop_duplicates(keep = 'first', inplace=True)\n",
        "df.to_sql('DESPESA', conn, if_exists='replace', index = False)\n",
        "\n",
        "sql_string = 'SELECT * FROM DESPESA'\n",
        "df = pd.read_sql(sql_string, conn)\n",
        "df.head()"
      ],
      "execution_count": null,
      "outputs": [
        {
          "output_type": "execute_result",
          "data": {
            "text/html": [
              "<div>\n",
              "<style scoped>\n",
              "    .dataframe tbody tr th:only-of-type {\n",
              "        vertical-align: middle;\n",
              "    }\n",
              "\n",
              "    .dataframe tbody tr th {\n",
              "        vertical-align: top;\n",
              "    }\n",
              "\n",
              "    .dataframe thead th {\n",
              "        text-align: right;\n",
              "    }\n",
              "</style>\n",
              "<table border=\"1\" class=\"dataframe\">\n",
              "  <thead>\n",
              "    <tr style=\"text-align: right;\">\n",
              "      <th></th>\n",
              "      <th>COD_DESPESA</th>\n",
              "      <th>DESPESAS_PAGAS</th>\n",
              "      <th>RESTOS_A_PAGAR_PAGOS</th>\n",
              "      <th>PAGAMENTOS_TOTAIS</th>\n",
              "      <th>ID_ANO</th>\n",
              "      <th>ID_MES</th>\n",
              "      <th>UNIDADE_ORCAMENTARIA_CODIGO</th>\n",
              "      <th>COD_DETALHAMENTO</th>\n",
              "      <th>ORGAO_CODIGO</th>\n",
              "      <th>ACAO</th>\n",
              "      <th>ID_PROGRAMA_PT</th>\n",
              "    </tr>\n",
              "  </thead>\n",
              "  <tbody>\n",
              "    <tr>\n",
              "      <th>0</th>\n",
              "      <td>464879</td>\n",
              "      <td>17863,97</td>\n",
              "      <td>0</td>\n",
              "      <td>17863,97</td>\n",
              "      <td>2020</td>\n",
              "      <td>1</td>\n",
              "      <td>26249</td>\n",
              "      <td>12364</td>\n",
              "      <td>26000</td>\n",
              "      <td>20TP</td>\n",
              "      <td>32</td>\n",
              "    </tr>\n",
              "    <tr>\n",
              "      <th>1</th>\n",
              "      <td>464880</td>\n",
              "      <td>5183837,69</td>\n",
              "      <td>0</td>\n",
              "      <td>5183837,69</td>\n",
              "      <td>2020</td>\n",
              "      <td>1</td>\n",
              "      <td>59101</td>\n",
              "      <td>3122</td>\n",
              "      <td>59000</td>\n",
              "      <td>20TP</td>\n",
              "      <td>31</td>\n",
              "    </tr>\n",
              "    <tr>\n",
              "      <th>2</th>\n",
              "      <td>464881</td>\n",
              "      <td>890150,16</td>\n",
              "      <td>0</td>\n",
              "      <td>890150,16</td>\n",
              "      <td>2020</td>\n",
              "      <td>1</td>\n",
              "      <td>26284</td>\n",
              "      <td>12364</td>\n",
              "      <td>26000</td>\n",
              "      <td>20TP</td>\n",
              "      <td>32</td>\n",
              "    </tr>\n",
              "    <tr>\n",
              "      <th>3</th>\n",
              "      <td>464882</td>\n",
              "      <td>0</td>\n",
              "      <td>14378992,13</td>\n",
              "      <td>14378992,13</td>\n",
              "      <td>2020</td>\n",
              "      <td>1</td>\n",
              "      <td>26413</td>\n",
              "      <td>12363</td>\n",
              "      <td>26000</td>\n",
              "      <td>20TP</td>\n",
              "      <td>2109</td>\n",
              "    </tr>\n",
              "    <tr>\n",
              "      <th>4</th>\n",
              "      <td>464883</td>\n",
              "      <td>0</td>\n",
              "      <td>16413567,93</td>\n",
              "      <td>16413567,93</td>\n",
              "      <td>2020</td>\n",
              "      <td>1</td>\n",
              "      <td>26410</td>\n",
              "      <td>12363</td>\n",
              "      <td>26000</td>\n",
              "      <td>20TP</td>\n",
              "      <td>2109</td>\n",
              "    </tr>\n",
              "  </tbody>\n",
              "</table>\n",
              "</div>"
            ],
            "text/plain": [
              "   COD_DESPESA DESPESAS_PAGAS  ...  ACAO ID_PROGRAMA_PT\n",
              "0       464879       17863,97  ...  20TP             32\n",
              "1       464880     5183837,69  ...  20TP             31\n",
              "2       464881      890150,16  ...  20TP             32\n",
              "3       464882              0  ...  20TP           2109\n",
              "4       464883              0  ...  20TP           2109\n",
              "\n",
              "[5 rows x 11 columns]"
            ]
          },
          "metadata": {
            "tags": []
          },
          "execution_count": 44
        }
      ]
    },
    {
      "cell_type": "code",
      "metadata": {
        "id": "pS_V11mInWyS",
        "outputId": "d9606f48-5ed9-4c21-8cb7-c704ff11f073",
        "colab": {
          "base_uri": "https://localhost:8080/",
          "height": 195
        }
      },
      "source": [
        "# c.execute('DROP TABLE DETALHAMENTO_FUNCAO')\n",
        "\n",
        "# DETALHAMENTO_FUNCAO\n",
        "sql_table = '''\n",
        "CREATE TABLE DETALHAMENTO_FUNCAO\n",
        "  (COD_DETALHAMENTO int,\n",
        "  ID_FUNCAO_PT int,\n",
        "  ID_SUBFUNCAO_PT int)\n",
        "'''\n",
        "\n",
        "c.execute(sql_table)\n",
        "df = pd.DataFrame(dfTotal, columns=['COD_DETALHAMENTO', 'ID_FUNCAO_PT', 'ID_SUBFUNCAO_PT'])\n",
        "df.drop_duplicates(keep = 'first', inplace=True)\n",
        "df.to_sql('DETALHAMENTO_FUNCAO', conn, if_exists='replace', index = False)\n",
        "\n",
        "sql_string = 'SELECT * FROM DETALHAMENTO_FUNCAO'\n",
        "df = pd.read_sql(sql_string, conn)\n",
        "df.head()"
      ],
      "execution_count": null,
      "outputs": [
        {
          "output_type": "execute_result",
          "data": {
            "text/html": [
              "<div>\n",
              "<style scoped>\n",
              "    .dataframe tbody tr th:only-of-type {\n",
              "        vertical-align: middle;\n",
              "    }\n",
              "\n",
              "    .dataframe tbody tr th {\n",
              "        vertical-align: top;\n",
              "    }\n",
              "\n",
              "    .dataframe thead th {\n",
              "        text-align: right;\n",
              "    }\n",
              "</style>\n",
              "<table border=\"1\" class=\"dataframe\">\n",
              "  <thead>\n",
              "    <tr style=\"text-align: right;\">\n",
              "      <th></th>\n",
              "      <th>COD_DETALHAMENTO</th>\n",
              "      <th>ID_FUNCAO_PT</th>\n",
              "      <th>ID_SUBFUNCAO_PT</th>\n",
              "    </tr>\n",
              "  </thead>\n",
              "  <tbody>\n",
              "    <tr>\n",
              "      <th>0</th>\n",
              "      <td>12364</td>\n",
              "      <td>12</td>\n",
              "      <td>364</td>\n",
              "    </tr>\n",
              "    <tr>\n",
              "      <th>1</th>\n",
              "      <td>3122</td>\n",
              "      <td>3</td>\n",
              "      <td>122</td>\n",
              "    </tr>\n",
              "    <tr>\n",
              "      <th>2</th>\n",
              "      <td>12363</td>\n",
              "      <td>12</td>\n",
              "      <td>363</td>\n",
              "    </tr>\n",
              "    <tr>\n",
              "      <th>3</th>\n",
              "      <td>23122</td>\n",
              "      <td>23</td>\n",
              "      <td>122</td>\n",
              "    </tr>\n",
              "    <tr>\n",
              "      <th>4</th>\n",
              "      <td>26122</td>\n",
              "      <td>26</td>\n",
              "      <td>122</td>\n",
              "    </tr>\n",
              "  </tbody>\n",
              "</table>\n",
              "</div>"
            ],
            "text/plain": [
              "  COD_DETALHAMENTO  ID_FUNCAO_PT ID_SUBFUNCAO_PT\n",
              "0            12364            12             364\n",
              "1             3122             3             122\n",
              "2            12363            12             363\n",
              "3            23122            23             122\n",
              "4            26122            26             122"
            ]
          },
          "metadata": {
            "tags": []
          },
          "execution_count": 3
        }
      ]
    },
    {
      "cell_type": "code",
      "metadata": {
        "id": "TI0-nIeeoI6C",
        "outputId": "16362928-dbb0-4318-987e-5e70d0d563d4",
        "colab": {
          "base_uri": "https://localhost:8080/",
          "height": 195
        }
      },
      "source": [
        "# c.execute('DROP TABLE FUNCAO')\n",
        "\n",
        "# FUNCAO\n",
        "sql_table = '''\n",
        "CREATE TABLE FUNCAO \n",
        "  (ID_FUNCAO_PT int,\n",
        "  NO_FUNCAO_PT text)\n",
        "'''\n",
        "\n",
        "c.execute(sql_table)\n",
        "df = pd.DataFrame(dfTotal, columns=['ID_FUNCAO_PT', 'NO_FUNCAO_PT'])\n",
        "df.drop_duplicates(keep = 'first', inplace=True)\n",
        "df.to_sql('FUNCAO', conn, if_exists='replace', index = False)\n",
        "\n",
        "sql_string = 'SELECT * FROM FUNCAO'\n",
        "df = pd.read_sql(sql_string, conn)\n",
        "df.head()"
      ],
      "execution_count": null,
      "outputs": [
        {
          "output_type": "execute_result",
          "data": {
            "text/html": [
              "<div>\n",
              "<style scoped>\n",
              "    .dataframe tbody tr th:only-of-type {\n",
              "        vertical-align: middle;\n",
              "    }\n",
              "\n",
              "    .dataframe tbody tr th {\n",
              "        vertical-align: top;\n",
              "    }\n",
              "\n",
              "    .dataframe thead th {\n",
              "        text-align: right;\n",
              "    }\n",
              "</style>\n",
              "<table border=\"1\" class=\"dataframe\">\n",
              "  <thead>\n",
              "    <tr style=\"text-align: right;\">\n",
              "      <th></th>\n",
              "      <th>ID_FUNCAO_PT</th>\n",
              "      <th>NO_FUNCAO_PT</th>\n",
              "    </tr>\n",
              "  </thead>\n",
              "  <tbody>\n",
              "    <tr>\n",
              "      <th>0</th>\n",
              "      <td>12</td>\n",
              "      <td>EDUCACAO</td>\n",
              "    </tr>\n",
              "    <tr>\n",
              "      <th>1</th>\n",
              "      <td>3</td>\n",
              "      <td>ESSENCIAL A JUSTICA</td>\n",
              "    </tr>\n",
              "    <tr>\n",
              "      <th>2</th>\n",
              "      <td>23</td>\n",
              "      <td>COMERCIO E SERVICOS</td>\n",
              "    </tr>\n",
              "    <tr>\n",
              "      <th>3</th>\n",
              "      <td>26</td>\n",
              "      <td>TRANSPORTE</td>\n",
              "    </tr>\n",
              "    <tr>\n",
              "      <th>4</th>\n",
              "      <td>1</td>\n",
              "      <td>LEGISLATIVA</td>\n",
              "    </tr>\n",
              "  </tbody>\n",
              "</table>\n",
              "</div>"
            ],
            "text/plain": [
              "   ID_FUNCAO_PT         NO_FUNCAO_PT\n",
              "0            12             EDUCACAO\n",
              "1             3  ESSENCIAL A JUSTICA\n",
              "2            23  COMERCIO E SERVICOS\n",
              "3            26           TRANSPORTE\n",
              "4             1          LEGISLATIVA"
            ]
          },
          "metadata": {
            "tags": []
          },
          "execution_count": 4
        }
      ]
    },
    {
      "cell_type": "code",
      "metadata": {
        "id": "2hVU2oXyLDW9",
        "outputId": "6a075d04-ff4f-452f-c83e-0e6bc51cd02a",
        "colab": {
          "base_uri": "https://localhost:8080/",
          "height": 195
        }
      },
      "source": [
        " # c.execute('DROP TABLE SUBFUNCAO')\n",
        "\n",
        "# SUBFUNCAO\n",
        "sql_table = '''\n",
        "CREATE TABLE SUBFUNCAO \n",
        "  (ID_SUBFUNCAO_PT int,\n",
        "  NO_SUBFUNCAO_PT text)\n",
        "'''\n",
        "\n",
        "c.execute(sql_table)\n",
        "df = pd.DataFrame(dfTotal, columns=['ID_SUBFUNCAO_PT', 'NO_SUBFUNCAO_PT'])\n",
        "df.drop_duplicates(keep = 'first', inplace=True)\n",
        "df.to_sql('SUBFUNCAO', conn, if_exists='replace', index = False)\n",
        "\n",
        "sql_string = 'SELECT * FROM SUBFUNCAO'\n",
        "df = pd.read_sql(sql_string, conn)\n",
        "df.head()"
      ],
      "execution_count": null,
      "outputs": [
        {
          "output_type": "execute_result",
          "data": {
            "text/html": [
              "<div>\n",
              "<style scoped>\n",
              "    .dataframe tbody tr th:only-of-type {\n",
              "        vertical-align: middle;\n",
              "    }\n",
              "\n",
              "    .dataframe tbody tr th {\n",
              "        vertical-align: top;\n",
              "    }\n",
              "\n",
              "    .dataframe thead th {\n",
              "        text-align: right;\n",
              "    }\n",
              "</style>\n",
              "<table border=\"1\" class=\"dataframe\">\n",
              "  <thead>\n",
              "    <tr style=\"text-align: right;\">\n",
              "      <th></th>\n",
              "      <th>ID_SUBFUNCAO_PT</th>\n",
              "      <th>NO_SUBFUNCAO_PT</th>\n",
              "    </tr>\n",
              "  </thead>\n",
              "  <tbody>\n",
              "    <tr>\n",
              "      <th>0</th>\n",
              "      <td>364</td>\n",
              "      <td>ENSINO SUPERIOR</td>\n",
              "    </tr>\n",
              "    <tr>\n",
              "      <th>1</th>\n",
              "      <td>122</td>\n",
              "      <td>ADMINISTRACAO GERAL</td>\n",
              "    </tr>\n",
              "    <tr>\n",
              "      <th>2</th>\n",
              "      <td>363</td>\n",
              "      <td>ENSINO PROFISSIONAL</td>\n",
              "    </tr>\n",
              "    <tr>\n",
              "      <th>3</th>\n",
              "      <td>302</td>\n",
              "      <td>ASSISTENCIA HOSPITALAR E AMBULATORIAL</td>\n",
              "    </tr>\n",
              "    <tr>\n",
              "      <th>4</th>\n",
              "      <td>368</td>\n",
              "      <td>EDUCACAO BASICA</td>\n",
              "    </tr>\n",
              "  </tbody>\n",
              "</table>\n",
              "</div>"
            ],
            "text/plain": [
              "  ID_SUBFUNCAO_PT                        NO_SUBFUNCAO_PT\n",
              "0             364                        ENSINO SUPERIOR\n",
              "1             122                    ADMINISTRACAO GERAL\n",
              "2             363                    ENSINO PROFISSIONAL\n",
              "3             302  ASSISTENCIA HOSPITALAR E AMBULATORIAL\n",
              "4             368                        EDUCACAO BASICA"
            ]
          },
          "metadata": {
            "tags": []
          },
          "execution_count": 5
        }
      ]
    },
    {
      "cell_type": "code",
      "metadata": {
        "id": "RlR5pP1di3x3",
        "outputId": "55057285-e709-4269-d505-02f6b505a1c2",
        "colab": {
          "base_uri": "https://localhost:8080/",
          "height": 195
        }
      },
      "source": [
        "\n",
        "#c.execute('DROP TABLE ACAO')\n",
        "\n",
        "# ACAO\n",
        "sql_table = '''\n",
        "CREATE TABLE ACAO \n",
        "  (ACAO int,\n",
        "  NO_ACAO text,\n",
        "  PRIMARIA_FINANCEIRA,\n",
        "  TRATAMENTO)\n",
        "'''\n",
        "\n",
        "c.execute(sql_table)\n",
        "df = pd.DataFrame(dfTotal, columns=['ACAO', 'NO_ACAO', 'PRIMARIA_FINANCEIRA', 'TRATAMENTO'])\n",
        "df.drop_duplicates(keep = 'first', inplace=True)\n",
        "df.to_sql('ACAO', conn, if_exists='replace', index = False)\n",
        "\n",
        "sql_string = 'SELECT * FROM ACAO'\n",
        "df = pd.read_sql(sql_string, conn)\n",
        "df.head()"
      ],
      "execution_count": null,
      "outputs": [
        {
          "output_type": "execute_result",
          "data": {
            "text/html": [
              "<div>\n",
              "<style scoped>\n",
              "    .dataframe tbody tr th:only-of-type {\n",
              "        vertical-align: middle;\n",
              "    }\n",
              "\n",
              "    .dataframe tbody tr th {\n",
              "        vertical-align: top;\n",
              "    }\n",
              "\n",
              "    .dataframe thead th {\n",
              "        text-align: right;\n",
              "    }\n",
              "</style>\n",
              "<table border=\"1\" class=\"dataframe\">\n",
              "  <thead>\n",
              "    <tr style=\"text-align: right;\">\n",
              "      <th></th>\n",
              "      <th>ACAO</th>\n",
              "      <th>NO_ACAO</th>\n",
              "      <th>PRIMARIA_FINANCEIRA</th>\n",
              "      <th>TRATAMENTO</th>\n",
              "    </tr>\n",
              "  </thead>\n",
              "  <tbody>\n",
              "    <tr>\n",
              "      <th>0</th>\n",
              "      <td>20TP</td>\n",
              "      <td>ATIVOS CIVIS DA UNIAO</td>\n",
              "      <td>Primária</td>\n",
              "      <td>Despesa sujeita ao teto</td>\n",
              "    </tr>\n",
              "    <tr>\n",
              "      <th>1</th>\n",
              "      <td>00PX</td>\n",
              "      <td>TRANSFERENCIA DE RECURSOS ARRECADADOS POR TAXA...</td>\n",
              "      <td>Primária</td>\n",
              "      <td>Despesa sujeita ao teto</td>\n",
              "    </tr>\n",
              "    <tr>\n",
              "      <th>2</th>\n",
              "      <td>44</td>\n",
              "      <td>FUNDO DE PARTICIPACAO DOS ESTADOS E DO DISTRIT...</td>\n",
              "      <td>Primária</td>\n",
              "      <td>Exceção: Transf. E/M</td>\n",
              "    </tr>\n",
              "    <tr>\n",
              "      <th>3</th>\n",
              "      <td>46</td>\n",
              "      <td>TRANSFERENCIA DA COTAPARTE DOS ESTADOS E DF EX...</td>\n",
              "      <td>Primária</td>\n",
              "      <td>Exceção: Transf. E/M</td>\n",
              "    </tr>\n",
              "    <tr>\n",
              "      <th>4</th>\n",
              "      <td>0C33</td>\n",
              "      <td>FUNDO DE MANUTENCAO E DESENVOLVIMENTO DA EDUCA...</td>\n",
              "      <td>Primária</td>\n",
              "      <td>Exceção: Transf. E/M</td>\n",
              "    </tr>\n",
              "  </tbody>\n",
              "</table>\n",
              "</div>"
            ],
            "text/plain": [
              "   ACAO  ...               TRATAMENTO\n",
              "0  20TP  ...  Despesa sujeita ao teto\n",
              "1  00PX  ...  Despesa sujeita ao teto\n",
              "2    44  ...     Exceção: Transf. E/M\n",
              "3    46  ...     Exceção: Transf. E/M\n",
              "4  0C33  ...     Exceção: Transf. E/M\n",
              "\n",
              "[5 rows x 4 columns]"
            ]
          },
          "metadata": {
            "tags": []
          },
          "execution_count": 6
        }
      ]
    },
    {
      "cell_type": "code",
      "metadata": {
        "id": "h_G9oSNTRa1f",
        "outputId": "65f304a0-a374-4fa4-9ef7-e6735ee554df",
        "colab": {
          "base_uri": "https://localhost:8080/",
          "height": 195
        }
      },
      "source": [
        "#c.execute('DROP TABLE ORCAMENTO')\n",
        "\n",
        "# ORCAMENTO\n",
        "sql_table = '''\n",
        "CREATE TABLE ORCAMENTO \n",
        "  (UNIDADE_ORCAMENTARIA_CODIGO,\n",
        "  UNIDADE_ORCAMENTARIA_DESCRICAO,\n",
        "  UNIDADE_ORCAMENTARIA_TIPO)\n",
        "'''\n",
        "\n",
        "c.execute(sql_table)\n",
        "df = pd.DataFrame(dfTotal, columns=['UNIDADE_ORCAMENTARIA_CODIGO', 'UNIDADE_ORCAMENTARIA_DESCRICAO', 'UNIDADE_ORCAMENTARIA_TIPO'])\n",
        "df.drop_duplicates(keep = 'first', inplace=True)\n",
        "df.to_sql('ORCAMENTO', conn, if_exists='replace', index = False)\n",
        "\n",
        "sql_string = 'SELECT * FROM ORCAMENTO'\n",
        "df = pd.read_sql(sql_string, conn)\n",
        "df.head()"
      ],
      "execution_count": null,
      "outputs": [
        {
          "output_type": "execute_result",
          "data": {
            "text/html": [
              "<div>\n",
              "<style scoped>\n",
              "    .dataframe tbody tr th:only-of-type {\n",
              "        vertical-align: middle;\n",
              "    }\n",
              "\n",
              "    .dataframe tbody tr th {\n",
              "        vertical-align: top;\n",
              "    }\n",
              "\n",
              "    .dataframe thead th {\n",
              "        text-align: right;\n",
              "    }\n",
              "</style>\n",
              "<table border=\"1\" class=\"dataframe\">\n",
              "  <thead>\n",
              "    <tr style=\"text-align: right;\">\n",
              "      <th></th>\n",
              "      <th>UNIDADE_ORCAMENTARIA_CODIGO</th>\n",
              "      <th>UNIDADE_ORCAMENTARIA_DESCRICAO</th>\n",
              "      <th>UNIDADE_ORCAMENTARIA_TIPO</th>\n",
              "    </tr>\n",
              "  </thead>\n",
              "  <tbody>\n",
              "    <tr>\n",
              "      <th>0</th>\n",
              "      <td>26249</td>\n",
              "      <td>UNIVERSIDADE FEDERAL RURAL DO RIO DE JANEIRO</td>\n",
              "      <td>UNIVERSIDADE</td>\n",
              "    </tr>\n",
              "    <tr>\n",
              "      <th>1</th>\n",
              "      <td>59101</td>\n",
              "      <td>CONSELHO NACIONAL DO MINISTERIO PUBLICOCNMP</td>\n",
              "      <td>CONSELHO</td>\n",
              "    </tr>\n",
              "    <tr>\n",
              "      <th>2</th>\n",
              "      <td>26284</td>\n",
              "      <td>FUN.UNIV.FED.DE CIENCIAS DA SAUDE DE P.ALEGRE</td>\n",
              "      <td>FUN.UNIV.FED.DE</td>\n",
              "    </tr>\n",
              "    <tr>\n",
              "      <th>3</th>\n",
              "      <td>26413</td>\n",
              "      <td>INST.FED.DE EDUC.,CIENC.E TEC.DO TRIA.MINEIRO</td>\n",
              "      <td>INST.FED.DE</td>\n",
              "    </tr>\n",
              "    <tr>\n",
              "      <th>4</th>\n",
              "      <td>26410</td>\n",
              "      <td>INST.FED.DE EDUC.,CIENC.E TEC.DO NORTE DE MG</td>\n",
              "      <td>INST.FED.DE</td>\n",
              "    </tr>\n",
              "  </tbody>\n",
              "</table>\n",
              "</div>"
            ],
            "text/plain": [
              "  UNIDADE_ORCAMENTARIA_CODIGO  ... UNIDADE_ORCAMENTARIA_TIPO\n",
              "0                       26249  ...              UNIVERSIDADE\n",
              "1                       59101  ...                  CONSELHO\n",
              "2                       26284  ...           FUN.UNIV.FED.DE\n",
              "3                       26413  ...               INST.FED.DE\n",
              "4                       26410  ...               INST.FED.DE\n",
              "\n",
              "[5 rows x 3 columns]"
            ]
          },
          "metadata": {
            "tags": []
          },
          "execution_count": 7
        }
      ]
    },
    {
      "cell_type": "code",
      "metadata": {
        "id": "RkaZPm-_p2J6",
        "outputId": "15121395-f45a-4988-ace3-2e435b4d638e",
        "colab": {
          "base_uri": "https://localhost:8080/",
          "height": 195
        }
      },
      "source": [
        "# c.execute('DROP TABLE ORGAO')\n",
        "\n",
        "# ORGAO\n",
        "sql_table = '''\n",
        "CREATE TABLE ORGAO \n",
        "  (ORGAO_CODIGO,\n",
        "  ORGAO_DESCRICAO,\n",
        "  PODER)\n",
        "'''\n",
        "\n",
        "c.execute(sql_table)\n",
        "df = pd.DataFrame(dfTotal, columns=['ORGAO_CODIGO', 'ORGAO_DESCRICAO', 'PODER'])\n",
        "df.drop_duplicates(keep = 'first', inplace=True)\n",
        "df.to_sql('ORGAO', conn, if_exists='replace', index = False)\n",
        "\n",
        "sql_string = 'SELECT * FROM ORGAO'\n",
        "df = pd.read_sql(sql_string, conn)\n",
        "df.head()"
      ],
      "execution_count": null,
      "outputs": [
        {
          "output_type": "execute_result",
          "data": {
            "text/html": [
              "<div>\n",
              "<style scoped>\n",
              "    .dataframe tbody tr th:only-of-type {\n",
              "        vertical-align: middle;\n",
              "    }\n",
              "\n",
              "    .dataframe tbody tr th {\n",
              "        vertical-align: top;\n",
              "    }\n",
              "\n",
              "    .dataframe thead th {\n",
              "        text-align: right;\n",
              "    }\n",
              "</style>\n",
              "<table border=\"1\" class=\"dataframe\">\n",
              "  <thead>\n",
              "    <tr style=\"text-align: right;\">\n",
              "      <th></th>\n",
              "      <th>ORGAO_CODIGO</th>\n",
              "      <th>ORGAO_DESCRICAO</th>\n",
              "      <th>PODER</th>\n",
              "    </tr>\n",
              "  </thead>\n",
              "  <tbody>\n",
              "    <tr>\n",
              "      <th>0</th>\n",
              "      <td>26000</td>\n",
              "      <td>MINISTERIO DA EDUCACAO</td>\n",
              "      <td>EXE</td>\n",
              "    </tr>\n",
              "    <tr>\n",
              "      <th>1</th>\n",
              "      <td>59000</td>\n",
              "      <td>CONSELHO NACIONAL DO MINISTERIO PUBLICO</td>\n",
              "      <td>CNMP</td>\n",
              "    </tr>\n",
              "    <tr>\n",
              "      <th>2</th>\n",
              "      <td>54000</td>\n",
              "      <td>MINISTERIO DO TURISMO</td>\n",
              "      <td>EXE</td>\n",
              "    </tr>\n",
              "    <tr>\n",
              "      <th>3</th>\n",
              "      <td>39000</td>\n",
              "      <td>MINISTERIO DA INFRAESTRUTURA</td>\n",
              "      <td>EXE</td>\n",
              "    </tr>\n",
              "    <tr>\n",
              "      <th>4</th>\n",
              "      <td>1000</td>\n",
              "      <td>CAMARA DOS DEPUTADOS</td>\n",
              "      <td>CD</td>\n",
              "    </tr>\n",
              "  </tbody>\n",
              "</table>\n",
              "</div>"
            ],
            "text/plain": [
              "   ORGAO_CODIGO                          ORGAO_DESCRICAO PODER\n",
              "0         26000                   MINISTERIO DA EDUCACAO   EXE\n",
              "1         59000  CONSELHO NACIONAL DO MINISTERIO PUBLICO  CNMP\n",
              "2         54000                    MINISTERIO DO TURISMO   EXE\n",
              "3         39000             MINISTERIO DA INFRAESTRUTURA   EXE\n",
              "4          1000                     CAMARA DOS DEPUTADOS    CD"
            ]
          },
          "metadata": {
            "tags": []
          },
          "execution_count": 8
        }
      ]
    },
    {
      "cell_type": "code",
      "metadata": {
        "id": "dgc2Y08dqAme",
        "outputId": "90bfa5af-79af-47cb-fbd4-20315bbbb230",
        "colab": {
          "base_uri": "https://localhost:8080/",
          "height": 195
        }
      },
      "source": [
        "\n",
        "# c.execute('DROP TABLE PROGRAMA')\n",
        "\n",
        "# PROGRAMA\n",
        "sql_table = '''\n",
        "CREATE TABLE PROGRAMA \n",
        "  (ID_PROGRAMA_PT,\n",
        "  NO_PROGRAMA_PT)\n",
        "'''\n",
        "\n",
        "c.execute(sql_table)\n",
        "df = pd.DataFrame(dfTotal, columns=['ID_PROGRAMA_PT', 'NO_PROGRAMA_PT'])\n",
        "df.drop_duplicates(keep = 'first', inplace=True)\n",
        "df.to_sql('PROGRAMA', conn, if_exists='replace', index = False)\n",
        "\n",
        "sql_string = 'SELECT * FROM PROGRAMA'\n",
        "df = pd.read_sql(sql_string, conn)\n",
        "df.head()"
      ],
      "execution_count": null,
      "outputs": [
        {
          "output_type": "execute_result",
          "data": {
            "text/html": [
              "<div>\n",
              "<style scoped>\n",
              "    .dataframe tbody tr th:only-of-type {\n",
              "        vertical-align: middle;\n",
              "    }\n",
              "\n",
              "    .dataframe tbody tr th {\n",
              "        vertical-align: top;\n",
              "    }\n",
              "\n",
              "    .dataframe thead th {\n",
              "        text-align: right;\n",
              "    }\n",
              "</style>\n",
              "<table border=\"1\" class=\"dataframe\">\n",
              "  <thead>\n",
              "    <tr style=\"text-align: right;\">\n",
              "      <th></th>\n",
              "      <th>ID_PROGRAMA_PT</th>\n",
              "      <th>NO_PROGRAMA_PT</th>\n",
              "    </tr>\n",
              "  </thead>\n",
              "  <tbody>\n",
              "    <tr>\n",
              "      <th>0</th>\n",
              "      <td>32</td>\n",
              "      <td>PROGRAMA DE GESTAO E MANUTENCAO DO PODER EXECU...</td>\n",
              "    </tr>\n",
              "    <tr>\n",
              "      <th>1</th>\n",
              "      <td>31</td>\n",
              "      <td>PROGRAMA DE GESTAO E MANUTENCAO DO MINISTERIO ...</td>\n",
              "    </tr>\n",
              "    <tr>\n",
              "      <th>2</th>\n",
              "      <td>2109</td>\n",
              "      <td>PROGRAMA DE GESTAO E MANUTENCAO DO MINISTERIO ...</td>\n",
              "    </tr>\n",
              "    <tr>\n",
              "      <th>3</th>\n",
              "      <td>2128</td>\n",
              "      <td>PROGRAMA DE GESTAO E MANUTENCAO DO MINISTERIO ...</td>\n",
              "    </tr>\n",
              "    <tr>\n",
              "      <th>4</th>\n",
              "      <td>2126</td>\n",
              "      <td>PROGRAMA DE GESTAO E MANUTENCAO DO MINISTERIO ...</td>\n",
              "    </tr>\n",
              "  </tbody>\n",
              "</table>\n",
              "</div>"
            ],
            "text/plain": [
              "  ID_PROGRAMA_PT                                     NO_PROGRAMA_PT\n",
              "0             32  PROGRAMA DE GESTAO E MANUTENCAO DO PODER EXECU...\n",
              "1             31  PROGRAMA DE GESTAO E MANUTENCAO DO MINISTERIO ...\n",
              "2           2109  PROGRAMA DE GESTAO E MANUTENCAO DO MINISTERIO ...\n",
              "3           2128  PROGRAMA DE GESTAO E MANUTENCAO DO MINISTERIO ...\n",
              "4           2126  PROGRAMA DE GESTAO E MANUTENCAO DO MINISTERIO ..."
            ]
          },
          "metadata": {
            "tags": []
          },
          "execution_count": 9
        }
      ]
    },
    {
      "cell_type": "markdown",
      "metadata": {
        "id": "oUuSvBNHMsx8"
      },
      "source": [
        "#4. Diagrama ER\n",
        "![Diagrama ER - TP 2 de IBD(3).png](data:image/png;base64,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)"
      ]
    },
    {
      "cell_type": "markdown",
      "metadata": {
        "id": "gVMZ5sgXMsx7"
      },
      "source": [
        "# 5. Diagrama relacional\n",
        "![EntidadesTP2.png](data:image/png;base64,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)\n"
      ]
    },
    {
      "cell_type": "markdown",
      "metadata": {
        "id": "VoN73lIlMsx8"
      },
      "source": [
        "# 6. Consultas"
      ]
    },
    {
      "cell_type": "markdown",
      "metadata": {
        "id": "2YpY1xzjMsx9"
      },
      "source": [
        "## 6.1 Duas consultas envolvendo seleção e projeção"
      ]
    },
    {
      "cell_type": "markdown",
      "metadata": {
        "id": "qf9BZkVHMsx-"
      },
      "source": [
        "### 6.1.1 Consulta 1 (duas versões)\n",
        "\n",
        "Retornar as descrições dos órgãos de poder “STF”."
      ]
    },
    {
      "cell_type": "code",
      "metadata": {
        "id": "isuSRtkQmCeX",
        "outputId": "7ca93a87-3429-41e0-c656-d6b30ee908a3",
        "colab": {
          "base_uri": "https://localhost:8080/",
          "height": 110
        }
      },
      "source": [
        "import time\n",
        "start = time.time()\n",
        "\n",
        "query = \"\"\"\n",
        "SELECT \n",
        "  ORGAO_DESCRICAO as Descricao\n",
        "FROM \n",
        "  ORGAO AS O\n",
        "WHERE\n",
        "  O.PODER = 'STF'\n",
        "\"\"\"\n",
        "\n",
        "finish = time.time()\n",
        "consulta_1 = finish-start\n",
        "\n",
        "print('Consulta realizada em %.10f' %consulta_1,'segundos\\n')\n",
        "df = pd.read_sql_query(query, conn)\n",
        "df"
      ],
      "execution_count": null,
      "outputs": [
        {
          "output_type": "stream",
          "text": [
            "Consulta realizada em 0.0000255108 segundos\n",
            "\n"
          ],
          "name": "stdout"
        },
        {
          "output_type": "execute_result",
          "data": {
            "text/html": [
              "<div>\n",
              "<style scoped>\n",
              "    .dataframe tbody tr th:only-of-type {\n",
              "        vertical-align: middle;\n",
              "    }\n",
              "\n",
              "    .dataframe tbody tr th {\n",
              "        vertical-align: top;\n",
              "    }\n",
              "\n",
              "    .dataframe thead th {\n",
              "        text-align: right;\n",
              "    }\n",
              "</style>\n",
              "<table border=\"1\" class=\"dataframe\">\n",
              "  <thead>\n",
              "    <tr style=\"text-align: right;\">\n",
              "      <th></th>\n",
              "      <th>Descricao</th>\n",
              "    </tr>\n",
              "  </thead>\n",
              "  <tbody>\n",
              "    <tr>\n",
              "      <th>0</th>\n",
              "      <td>SUPREMO TRIBUNAL FEDERAL</td>\n",
              "    </tr>\n",
              "  </tbody>\n",
              "</table>\n",
              "</div>"
            ],
            "text/plain": [
              "                  Descricao\n",
              "0  SUPREMO TRIBUNAL FEDERAL"
            ]
          },
          "metadata": {
            "tags": []
          },
          "execution_count": 45
        }
      ]
    },
    {
      "cell_type": "code",
      "metadata": {
        "id": "N1mlQsKgokIo",
        "outputId": "a3eaa7eb-2606-44be-ed4b-b838fa7c61e4",
        "colab": {
          "base_uri": "https://localhost:8080/",
          "height": 110
        }
      },
      "source": [
        "start = time.time()\n",
        "\n",
        "query = \"\"\"\n",
        "SELECT DISTINCT \n",
        "  ORGAO_DESCRICAO as Descricao\n",
        "FROM\n",
        "  DESPESA NATURAL JOIN\n",
        "  ORGAO AS O\n",
        "WHERE\n",
        "  O.PODER = 'STF'\n",
        "\"\"\"\n",
        "\n",
        "finish = time.time()\n",
        "consulta_2 = finish-start\n",
        "\n",
        "print('Consulta realizada em %.10f' %consulta_2,'segundos\\n')\n",
        "df = pd.read_sql_query(query, conn)\n",
        "df"
      ],
      "execution_count": null,
      "outputs": [
        {
          "output_type": "stream",
          "text": [
            "Consulta realizada em 0.0000305176 segundos\n",
            "\n"
          ],
          "name": "stdout"
        },
        {
          "output_type": "execute_result",
          "data": {
            "text/html": [
              "<div>\n",
              "<style scoped>\n",
              "    .dataframe tbody tr th:only-of-type {\n",
              "        vertical-align: middle;\n",
              "    }\n",
              "\n",
              "    .dataframe tbody tr th {\n",
              "        vertical-align: top;\n",
              "    }\n",
              "\n",
              "    .dataframe thead th {\n",
              "        text-align: right;\n",
              "    }\n",
              "</style>\n",
              "<table border=\"1\" class=\"dataframe\">\n",
              "  <thead>\n",
              "    <tr style=\"text-align: right;\">\n",
              "      <th></th>\n",
              "      <th>Descricao</th>\n",
              "    </tr>\n",
              "  </thead>\n",
              "  <tbody>\n",
              "    <tr>\n",
              "      <th>0</th>\n",
              "      <td>SUPREMO TRIBUNAL FEDERAL</td>\n",
              "    </tr>\n",
              "  </tbody>\n",
              "</table>\n",
              "</div>"
            ],
            "text/plain": [
              "                  Descricao\n",
              "0  SUPREMO TRIBUNAL FEDERAL"
            ]
          },
          "metadata": {
            "tags": []
          },
          "execution_count": 46
        }
      ]
    },
    {
      "cell_type": "code",
      "metadata": {
        "id": "5MXH6ssK4iWw",
        "outputId": "65c91af4-6071-484b-8445-3d4a4d577b0b",
        "colab": {
          "base_uri": "https://localhost:8080/",
          "height": 290
        }
      },
      "source": [
        "#essa celula plota o grafico de comparação do tempo de execução de cada uma das duas queries \n",
        "\n",
        "query_df = pd.DataFrame({'Consultas':['1','2'],'Tempo':[consulta_1,consulta_2]})\n",
        "axis = query_df.plot.bar(x='Consultas',y='Tempo',rot=0)"
      ],
      "execution_count": null,
      "outputs": [
        {
          "output_type": "display_data",
          "data": {
            "image/png": "[encoded data removed]",
            "text/plain": [
              "<Figure size 432x288 with 1 Axes>"
            ]
          },
          "metadata": {
            "tags": [],
            "needs_background": "light"
          }
        }
      ]
    },
    {
      "cell_type": "markdown",
      "metadata": {
        "id": "jTvDIa8SMsx-"
      },
      "source": [
        "### 6.1.2 Consulta 2 (duas versões)\n",
        "\n",
        "Retornar as descrições das unidades orçamentárias do tipo “UNIVERSIDADE”."
      ]
    },
    {
      "cell_type": "code",
      "metadata": {
        "id": "JnZJW0l2olH0",
        "outputId": "f91c3268-f54c-4689-e51e-79696d926701",
        "colab": {
          "base_uri": "https://localhost:8080/",
          "height": 1354
        }
      },
      "source": [
        "start = time.time()\n",
        "\n",
        "query = \"\"\"\n",
        "SELECT \n",
        "  UNIDADE_ORCAMENTARIA_DESCRICAO AS Descricao\n",
        "FROM \n",
        "  ORCAMENTO AS ORC\n",
        "WHERE \n",
        "  ORC.UNIDADE_ORCAMENTARIA_TIPO = 'UNIVERSIDADE'\n",
        "\"\"\"\n",
        "\n",
        "finish = time.time()\n",
        "consulta_1 = finish-start\n",
        "\n",
        "print('Consulta realizada em %.10f' %consulta_1,'segundos\\n')\n",
        "df = pd.read_sql_query(query, conn)\n",
        "df"
      ],
      "execution_count": null,
      "outputs": [
        {
          "output_type": "stream",
          "text": [
            "Consulta realizada em 0.0000462532 segundos\n",
            "\n"
          ],
          "name": "stdout"
        },
        {
          "output_type": "execute_result",
          "data": {
            "text/html": [
              "<div>\n",
              "<style scoped>\n",
              "    .dataframe tbody tr th:only-of-type {\n",
              "        vertical-align: middle;\n",
              "    }\n",
              "\n",
              "    .dataframe tbody tr th {\n",
              "        vertical-align: top;\n",
              "    }\n",
              "\n",
              "    .dataframe thead th {\n",
              "        text-align: right;\n",
              "    }\n",
              "</style>\n",
              "<table border=\"1\" class=\"dataframe\">\n",
              "  <thead>\n",
              "    <tr style=\"text-align: right;\">\n",
              "      <th></th>\n",
              "      <th>Descricao</th>\n",
              "    </tr>\n",
              "  </thead>\n",
              "  <tbody>\n",
              "    <tr>\n",
              "      <th>0</th>\n",
              "      <td>UNIVERSIDADE FEDERAL RURAL DO RIO DE JANEIRO</td>\n",
              "    </tr>\n",
              "    <tr>\n",
              "      <th>1</th>\n",
              "      <td>UNIVERSIDADE FEDERAL DO CEARA</td>\n",
              "    </tr>\n",
              "    <tr>\n",
              "      <th>2</th>\n",
              "      <td>UNIVERSIDADE FEDERAL DO PARANA</td>\n",
              "    </tr>\n",
              "    <tr>\n",
              "      <th>3</th>\n",
              "      <td>UNIVERSIDADE FED.VALES JEQUITINHONHA E MUCURI</td>\n",
              "    </tr>\n",
              "    <tr>\n",
              "      <th>4</th>\n",
              "      <td>UNIVERSIDADE FEDERAL DE JUIZ DE FORA</td>\n",
              "    </tr>\n",
              "    <tr>\n",
              "      <th>5</th>\n",
              "      <td>UNIVERSIDADE FEDERAL DE ITAJUBA  MG</td>\n",
              "    </tr>\n",
              "    <tr>\n",
              "      <th>6</th>\n",
              "      <td>UNIVERSIDADE FEDERAL DO RIO GRANDE  FURG</td>\n",
              "    </tr>\n",
              "    <tr>\n",
              "      <th>7</th>\n",
              "      <td>UNIVERSIDADE FEDERAL DO SUL DA BAHIA  UFESBA</td>\n",
              "    </tr>\n",
              "    <tr>\n",
              "      <th>8</th>\n",
              "      <td>UNIVERSIDADE FEDERAL DO RIO DE JANEIRO</td>\n",
              "    </tr>\n",
              "    <tr>\n",
              "      <th>9</th>\n",
              "      <td>UNIVERSIDADE FEDERAL DO OESTE DO PARA</td>\n",
              "    </tr>\n",
              "    <tr>\n",
              "      <th>10</th>\n",
              "      <td>UNIVERSIDADE FEDERAL DA PARAIBA</td>\n",
              "    </tr>\n",
              "    <tr>\n",
              "      <th>11</th>\n",
              "      <td>UNIVERSIDADE FEDERAL DE MINAS GERAIS</td>\n",
              "    </tr>\n",
              "    <tr>\n",
              "      <th>12</th>\n",
              "      <td>UNIVERSIDADE FEDERAL DE PERNAMBUCO</td>\n",
              "    </tr>\n",
              "    <tr>\n",
              "      <th>13</th>\n",
              "      <td>UNIVERSIDADE FEDERAL DE SANTA CATARINA</td>\n",
              "    </tr>\n",
              "    <tr>\n",
              "      <th>14</th>\n",
              "      <td>UNIVERSIDADE FEDERAL DE LAVRAS</td>\n",
              "    </tr>\n",
              "    <tr>\n",
              "      <th>15</th>\n",
              "      <td>UNIVERSIDADE FEDERAL DE ALAGOAS</td>\n",
              "    </tr>\n",
              "    <tr>\n",
              "      <th>16</th>\n",
              "      <td>UNIVERSIDADE FEDERAL DO PARA</td>\n",
              "    </tr>\n",
              "    <tr>\n",
              "      <th>17</th>\n",
              "      <td>UNIVERSIDADE FEDERAL DO RECONCAVO DA BAHIA</td>\n",
              "    </tr>\n",
              "    <tr>\n",
              "      <th>18</th>\n",
              "      <td>UNIVERSIDADE FEDERAL DO OESTE DA BAHIA  UFOB</td>\n",
              "    </tr>\n",
              "    <tr>\n",
              "      <th>19</th>\n",
              "      <td>UNIVERSIDADE FEDERAL DO CARIRI  UFCA</td>\n",
              "    </tr>\n",
              "    <tr>\n",
              "      <th>20</th>\n",
              "      <td>UNIVERSIDADE FEDERAL DE ALFENAS</td>\n",
              "    </tr>\n",
              "    <tr>\n",
              "      <th>21</th>\n",
              "      <td>UNIVERSIDADE FEDERAL DO ESPIRITO SANTO</td>\n",
              "    </tr>\n",
              "    <tr>\n",
              "      <th>22</th>\n",
              "      <td>UNIVERSIDADE FEDERAL DE RORAIMA</td>\n",
              "    </tr>\n",
              "    <tr>\n",
              "      <th>23</th>\n",
              "      <td>UNIVERSIDADE FEDERAL DO ESTADO RIO DE JANEIRO</td>\n",
              "    </tr>\n",
              "    <tr>\n",
              "      <th>24</th>\n",
              "      <td>UNIVERSIDADE FEDERAL DE CAMPINA GRANDE</td>\n",
              "    </tr>\n",
              "    <tr>\n",
              "      <th>25</th>\n",
              "      <td>UNIVERSIDADE FEDERAL RURAL DO SEMIARIDO</td>\n",
              "    </tr>\n",
              "    <tr>\n",
              "      <th>26</th>\n",
              "      <td>UNIVERSIDADE FEDERAL DA BAHIA</td>\n",
              "    </tr>\n",
              "    <tr>\n",
              "      <th>27</th>\n",
              "      <td>UNIVERSIDADE FEDERAL DO TRIANGULO MINEIRO</td>\n",
              "    </tr>\n",
              "    <tr>\n",
              "      <th>28</th>\n",
              "      <td>UNIVERSIDADE FEDERAL DE SAO PAULO</td>\n",
              "    </tr>\n",
              "    <tr>\n",
              "      <th>29</th>\n",
              "      <td>UNIVERSIDADE FEDERAL DE SANTA MARIA</td>\n",
              "    </tr>\n",
              "    <tr>\n",
              "      <th>30</th>\n",
              "      <td>UNIVERSIDADE FEDERAL DE GOIAS</td>\n",
              "    </tr>\n",
              "    <tr>\n",
              "      <th>31</th>\n",
              "      <td>UNIVERSIDADE FEDERAL DO RIO GRANDE DO NORTE</td>\n",
              "    </tr>\n",
              "    <tr>\n",
              "      <th>32</th>\n",
              "      <td>UNIVERSIDADE FEDERAL FLUMINENSE</td>\n",
              "    </tr>\n",
              "    <tr>\n",
              "      <th>33</th>\n",
              "      <td>UNIVERSIDADE FEDERAL DO RIO GRANDE DO SUL</td>\n",
              "    </tr>\n",
              "    <tr>\n",
              "      <th>34</th>\n",
              "      <td>UNIVERSIDADE FEDERAL DA FRONTEIRA SUL</td>\n",
              "    </tr>\n",
              "    <tr>\n",
              "      <th>35</th>\n",
              "      <td>UNIVERSIDADE TECNOLOGICA FEDERAL DO PARANA</td>\n",
              "    </tr>\n",
              "    <tr>\n",
              "      <th>36</th>\n",
              "      <td>UNIVERSIDADE FEDERAL RURAL DE PERNAMBUCO</td>\n",
              "    </tr>\n",
              "    <tr>\n",
              "      <th>37</th>\n",
              "      <td>UNIVERSIDADE FEDERAL RURAL DA AMAZONIA</td>\n",
              "    </tr>\n",
              "    <tr>\n",
              "      <th>38</th>\n",
              "      <td>UNIVERSIDADE FEDERAL DO DELTA DO PARNAIBA</td>\n",
              "    </tr>\n",
              "    <tr>\n",
              "      <th>39</th>\n",
              "      <td>UNIVERSIDADE FEDERAL DE RONDONOPOLIS</td>\n",
              "    </tr>\n",
              "    <tr>\n",
              "      <th>40</th>\n",
              "      <td>UNIVERSIDADE FEDERAL DO AGRESTE DE PERNAMBUCO</td>\n",
              "    </tr>\n",
              "    <tr>\n",
              "      <th>41</th>\n",
              "      <td>UNIVERSIDADE FEDERAL DE JATAI</td>\n",
              "    </tr>\n",
              "    <tr>\n",
              "      <th>42</th>\n",
              "      <td>UNIVERSIDADE FEDERAL DE CATALAO</td>\n",
              "    </tr>\n",
              "  </tbody>\n",
              "</table>\n",
              "</div>"
            ],
            "text/plain": [
              "                                        Descricao\n",
              "0    UNIVERSIDADE FEDERAL RURAL DO RIO DE JANEIRO\n",
              "1                   UNIVERSIDADE FEDERAL DO CEARA\n",
              "2                  UNIVERSIDADE FEDERAL DO PARANA\n",
              "3   UNIVERSIDADE FED.VALES JEQUITINHONHA E MUCURI\n",
              "4            UNIVERSIDADE FEDERAL DE JUIZ DE FORA\n",
              "5             UNIVERSIDADE FEDERAL DE ITAJUBA  MG\n",
              "6        UNIVERSIDADE FEDERAL DO RIO GRANDE  FURG\n",
              "7    UNIVERSIDADE FEDERAL DO SUL DA BAHIA  UFESBA\n",
              "8          UNIVERSIDADE FEDERAL DO RIO DE JANEIRO\n",
              "9           UNIVERSIDADE FEDERAL DO OESTE DO PARA\n",
              "10                UNIVERSIDADE FEDERAL DA PARAIBA\n",
              "11           UNIVERSIDADE FEDERAL DE MINAS GERAIS\n",
              "12             UNIVERSIDADE FEDERAL DE PERNAMBUCO\n",
              "13         UNIVERSIDADE FEDERAL DE SANTA CATARINA\n",
              "14                 UNIVERSIDADE FEDERAL DE LAVRAS\n",
              "15                UNIVERSIDADE FEDERAL DE ALAGOAS\n",
              "16                   UNIVERSIDADE FEDERAL DO PARA\n",
              "17     UNIVERSIDADE FEDERAL DO RECONCAVO DA BAHIA\n",
              "18   UNIVERSIDADE FEDERAL DO OESTE DA BAHIA  UFOB\n",
              "19           UNIVERSIDADE FEDERAL DO CARIRI  UFCA\n",
              "20                UNIVERSIDADE FEDERAL DE ALFENAS\n",
              "21         UNIVERSIDADE FEDERAL DO ESPIRITO SANTO\n",
              "22                UNIVERSIDADE FEDERAL DE RORAIMA\n",
              "23  UNIVERSIDADE FEDERAL DO ESTADO RIO DE JANEIRO\n",
              "24         UNIVERSIDADE FEDERAL DE CAMPINA GRANDE\n",
              "25        UNIVERSIDADE FEDERAL RURAL DO SEMIARIDO\n",
              "26                  UNIVERSIDADE FEDERAL DA BAHIA\n",
              "27      UNIVERSIDADE FEDERAL DO TRIANGULO MINEIRO\n",
              "28              UNIVERSIDADE FEDERAL DE SAO PAULO\n",
              "29            UNIVERSIDADE FEDERAL DE SANTA MARIA\n",
              "30                  UNIVERSIDADE FEDERAL DE GOIAS\n",
              "31    UNIVERSIDADE FEDERAL DO RIO GRANDE DO NORTE\n",
              "32                UNIVERSIDADE FEDERAL FLUMINENSE\n",
              "33      UNIVERSIDADE FEDERAL DO RIO GRANDE DO SUL\n",
              "34          UNIVERSIDADE FEDERAL DA FRONTEIRA SUL\n",
              "35     UNIVERSIDADE TECNOLOGICA FEDERAL DO PARANA\n",
              "36       UNIVERSIDADE FEDERAL RURAL DE PERNAMBUCO\n",
              "37         UNIVERSIDADE FEDERAL RURAL DA AMAZONIA\n",
              "38      UNIVERSIDADE FEDERAL DO DELTA DO PARNAIBA\n",
              "39           UNIVERSIDADE FEDERAL DE RONDONOPOLIS\n",
              "40  UNIVERSIDADE FEDERAL DO AGRESTE DE PERNAMBUCO\n",
              "41                  UNIVERSIDADE FEDERAL DE JATAI\n",
              "42                UNIVERSIDADE FEDERAL DE CATALAO"
            ]
          },
          "metadata": {
            "tags": []
          },
          "execution_count": 52
        }
      ]
    },
    {
      "cell_type": "code",
      "metadata": {
        "id": "4x5Za5sdolLE",
        "outputId": "827b8943-6449-451e-ad05-2c26b084cca0",
        "colab": {
          "base_uri": "https://localhost:8080/",
          "height": 1354
        }
      },
      "source": [
        "start = time.time()\n",
        "\n",
        "query = \"\"\"\n",
        "SELECT DISTINCT\n",
        "  UNIDADE_ORCAMENTARIA_DESCRICAO AS Descricao\n",
        "FROM \n",
        "  DESPESA NATURAL JOIN\n",
        "  ORCAMENTO AS ORC\n",
        "WHERE \n",
        "  ORC.UNIDADE_ORCAMENTARIA_TIPO = 'UNIVERSIDADE'\n",
        "\"\"\"\n",
        "\n",
        "finish = time.time()\n",
        "consulta_2 = finish-start\n",
        "\n",
        "print('Consulta realizada em %.10f' %consulta_2,'segundos\\n')\n",
        "df = pd.read_sql_query(query, conn)\n",
        "df"
      ],
      "execution_count": null,
      "outputs": [
        {
          "output_type": "stream",
          "text": [
            "Consulta realizada em 0.0000374317 segundos\n",
            "\n"
          ],
          "name": "stdout"
        },
        {
          "output_type": "execute_result",
          "data": {
            "text/html": [
              "<div>\n",
              "<style scoped>\n",
              "    .dataframe tbody tr th:only-of-type {\n",
              "        vertical-align: middle;\n",
              "    }\n",
              "\n",
              "    .dataframe tbody tr th {\n",
              "        vertical-align: top;\n",
              "    }\n",
              "\n",
              "    .dataframe thead th {\n",
              "        text-align: right;\n",
              "    }\n",
              "</style>\n",
              "<table border=\"1\" class=\"dataframe\">\n",
              "  <thead>\n",
              "    <tr style=\"text-align: right;\">\n",
              "      <th></th>\n",
              "      <th>Descricao</th>\n",
              "    </tr>\n",
              "  </thead>\n",
              "  <tbody>\n",
              "    <tr>\n",
              "      <th>0</th>\n",
              "      <td>UNIVERSIDADE FEDERAL RURAL DO RIO DE JANEIRO</td>\n",
              "    </tr>\n",
              "    <tr>\n",
              "      <th>1</th>\n",
              "      <td>UNIVERSIDADE FEDERAL DO CEARA</td>\n",
              "    </tr>\n",
              "    <tr>\n",
              "      <th>2</th>\n",
              "      <td>UNIVERSIDADE FEDERAL DO PARANA</td>\n",
              "    </tr>\n",
              "    <tr>\n",
              "      <th>3</th>\n",
              "      <td>UNIVERSIDADE FED.VALES JEQUITINHONHA E MUCURI</td>\n",
              "    </tr>\n",
              "    <tr>\n",
              "      <th>4</th>\n",
              "      <td>UNIVERSIDADE FEDERAL DE JUIZ DE FORA</td>\n",
              "    </tr>\n",
              "    <tr>\n",
              "      <th>5</th>\n",
              "      <td>UNIVERSIDADE FEDERAL DE ITAJUBA  MG</td>\n",
              "    </tr>\n",
              "    <tr>\n",
              "      <th>6</th>\n",
              "      <td>UNIVERSIDADE FEDERAL DO RIO GRANDE  FURG</td>\n",
              "    </tr>\n",
              "    <tr>\n",
              "      <th>7</th>\n",
              "      <td>UNIVERSIDADE FEDERAL DO SUL DA BAHIA  UFESBA</td>\n",
              "    </tr>\n",
              "    <tr>\n",
              "      <th>8</th>\n",
              "      <td>UNIVERSIDADE FEDERAL DO RIO DE JANEIRO</td>\n",
              "    </tr>\n",
              "    <tr>\n",
              "      <th>9</th>\n",
              "      <td>UNIVERSIDADE FEDERAL DO OESTE DO PARA</td>\n",
              "    </tr>\n",
              "    <tr>\n",
              "      <th>10</th>\n",
              "      <td>UNIVERSIDADE FEDERAL DA PARAIBA</td>\n",
              "    </tr>\n",
              "    <tr>\n",
              "      <th>11</th>\n",
              "      <td>UNIVERSIDADE FEDERAL DE MINAS GERAIS</td>\n",
              "    </tr>\n",
              "    <tr>\n",
              "      <th>12</th>\n",
              "      <td>UNIVERSIDADE FEDERAL DE PERNAMBUCO</td>\n",
              "    </tr>\n",
              "    <tr>\n",
              "      <th>13</th>\n",
              "      <td>UNIVERSIDADE FEDERAL DE SANTA CATARINA</td>\n",
              "    </tr>\n",
              "    <tr>\n",
              "      <th>14</th>\n",
              "      <td>UNIVERSIDADE FEDERAL DE LAVRAS</td>\n",
              "    </tr>\n",
              "    <tr>\n",
              "      <th>15</th>\n",
              "      <td>UNIVERSIDADE FEDERAL DE ALAGOAS</td>\n",
              "    </tr>\n",
              "    <tr>\n",
              "      <th>16</th>\n",
              "      <td>UNIVERSIDADE FEDERAL DO PARA</td>\n",
              "    </tr>\n",
              "    <tr>\n",
              "      <th>17</th>\n",
              "      <td>UNIVERSIDADE FEDERAL DO RECONCAVO DA BAHIA</td>\n",
              "    </tr>\n",
              "    <tr>\n",
              "      <th>18</th>\n",
              "      <td>UNIVERSIDADE FEDERAL DO OESTE DA BAHIA  UFOB</td>\n",
              "    </tr>\n",
              "    <tr>\n",
              "      <th>19</th>\n",
              "      <td>UNIVERSIDADE FEDERAL DO CARIRI  UFCA</td>\n",
              "    </tr>\n",
              "    <tr>\n",
              "      <th>20</th>\n",
              "      <td>UNIVERSIDADE FEDERAL DE ALFENAS</td>\n",
              "    </tr>\n",
              "    <tr>\n",
              "      <th>21</th>\n",
              "      <td>UNIVERSIDADE FEDERAL DO ESPIRITO SANTO</td>\n",
              "    </tr>\n",
              "    <tr>\n",
              "      <th>22</th>\n",
              "      <td>UNIVERSIDADE FEDERAL DE RORAIMA</td>\n",
              "    </tr>\n",
              "    <tr>\n",
              "      <th>23</th>\n",
              "      <td>UNIVERSIDADE FEDERAL DO ESTADO RIO DE JANEIRO</td>\n",
              "    </tr>\n",
              "    <tr>\n",
              "      <th>24</th>\n",
              "      <td>UNIVERSIDADE FEDERAL DE CAMPINA GRANDE</td>\n",
              "    </tr>\n",
              "    <tr>\n",
              "      <th>25</th>\n",
              "      <td>UNIVERSIDADE FEDERAL RURAL DO SEMIARIDO</td>\n",
              "    </tr>\n",
              "    <tr>\n",
              "      <th>26</th>\n",
              "      <td>UNIVERSIDADE FEDERAL DA BAHIA</td>\n",
              "    </tr>\n",
              "    <tr>\n",
              "      <th>27</th>\n",
              "      <td>UNIVERSIDADE FEDERAL DO TRIANGULO MINEIRO</td>\n",
              "    </tr>\n",
              "    <tr>\n",
              "      <th>28</th>\n",
              "      <td>UNIVERSIDADE FEDERAL DE SAO PAULO</td>\n",
              "    </tr>\n",
              "    <tr>\n",
              "      <th>29</th>\n",
              "      <td>UNIVERSIDADE FEDERAL DE SANTA MARIA</td>\n",
              "    </tr>\n",
              "    <tr>\n",
              "      <th>30</th>\n",
              "      <td>UNIVERSIDADE FEDERAL DE GOIAS</td>\n",
              "    </tr>\n",
              "    <tr>\n",
              "      <th>31</th>\n",
              "      <td>UNIVERSIDADE FEDERAL DO RIO GRANDE DO NORTE</td>\n",
              "    </tr>\n",
              "    <tr>\n",
              "      <th>32</th>\n",
              "      <td>UNIVERSIDADE FEDERAL FLUMINENSE</td>\n",
              "    </tr>\n",
              "    <tr>\n",
              "      <th>33</th>\n",
              "      <td>UNIVERSIDADE FEDERAL DO RIO GRANDE DO SUL</td>\n",
              "    </tr>\n",
              "    <tr>\n",
              "      <th>34</th>\n",
              "      <td>UNIVERSIDADE FEDERAL DA FRONTEIRA SUL</td>\n",
              "    </tr>\n",
              "    <tr>\n",
              "      <th>35</th>\n",
              "      <td>UNIVERSIDADE TECNOLOGICA FEDERAL DO PARANA</td>\n",
              "    </tr>\n",
              "    <tr>\n",
              "      <th>36</th>\n",
              "      <td>UNIVERSIDADE FEDERAL RURAL DE PERNAMBUCO</td>\n",
              "    </tr>\n",
              "    <tr>\n",
              "      <th>37</th>\n",
              "      <td>UNIVERSIDADE FEDERAL RURAL DA AMAZONIA</td>\n",
              "    </tr>\n",
              "    <tr>\n",
              "      <th>38</th>\n",
              "      <td>UNIVERSIDADE FEDERAL DO DELTA DO PARNAIBA</td>\n",
              "    </tr>\n",
              "    <tr>\n",
              "      <th>39</th>\n",
              "      <td>UNIVERSIDADE FEDERAL DE RONDONOPOLIS</td>\n",
              "    </tr>\n",
              "    <tr>\n",
              "      <th>40</th>\n",
              "      <td>UNIVERSIDADE FEDERAL DO AGRESTE DE PERNAMBUCO</td>\n",
              "    </tr>\n",
              "    <tr>\n",
              "      <th>41</th>\n",
              "      <td>UNIVERSIDADE FEDERAL DE JATAI</td>\n",
              "    </tr>\n",
              "    <tr>\n",
              "      <th>42</th>\n",
              "      <td>UNIVERSIDADE FEDERAL DE CATALAO</td>\n",
              "    </tr>\n",
              "  </tbody>\n",
              "</table>\n",
              "</div>"
            ],
            "text/plain": [
              "                                        Descricao\n",
              "0    UNIVERSIDADE FEDERAL RURAL DO RIO DE JANEIRO\n",
              "1                   UNIVERSIDADE FEDERAL DO CEARA\n",
              "2                  UNIVERSIDADE FEDERAL DO PARANA\n",
              "3   UNIVERSIDADE FED.VALES JEQUITINHONHA E MUCURI\n",
              "4            UNIVERSIDADE FEDERAL DE JUIZ DE FORA\n",
              "5             UNIVERSIDADE FEDERAL DE ITAJUBA  MG\n",
              "6        UNIVERSIDADE FEDERAL DO RIO GRANDE  FURG\n",
              "7    UNIVERSIDADE FEDERAL DO SUL DA BAHIA  UFESBA\n",
              "8          UNIVERSIDADE FEDERAL DO RIO DE JANEIRO\n",
              "9           UNIVERSIDADE FEDERAL DO OESTE DO PARA\n",
              "10                UNIVERSIDADE FEDERAL DA PARAIBA\n",
              "11           UNIVERSIDADE FEDERAL DE MINAS GERAIS\n",
              "12             UNIVERSIDADE FEDERAL DE PERNAMBUCO\n",
              "13         UNIVERSIDADE FEDERAL DE SANTA CATARINA\n",
              "14                 UNIVERSIDADE FEDERAL DE LAVRAS\n",
              "15                UNIVERSIDADE FEDERAL DE ALAGOAS\n",
              "16                   UNIVERSIDADE FEDERAL DO PARA\n",
              "17     UNIVERSIDADE FEDERAL DO RECONCAVO DA BAHIA\n",
              "18   UNIVERSIDADE FEDERAL DO OESTE DA BAHIA  UFOB\n",
              "19           UNIVERSIDADE FEDERAL DO CARIRI  UFCA\n",
              "20                UNIVERSIDADE FEDERAL DE ALFENAS\n",
              "21         UNIVERSIDADE FEDERAL DO ESPIRITO SANTO\n",
              "22                UNIVERSIDADE FEDERAL DE RORAIMA\n",
              "23  UNIVERSIDADE FEDERAL DO ESTADO RIO DE JANEIRO\n",
              "24         UNIVERSIDADE FEDERAL DE CAMPINA GRANDE\n",
              "25        UNIVERSIDADE FEDERAL RURAL DO SEMIARIDO\n",
              "26                  UNIVERSIDADE FEDERAL DA BAHIA\n",
              "27      UNIVERSIDADE FEDERAL DO TRIANGULO MINEIRO\n",
              "28              UNIVERSIDADE FEDERAL DE SAO PAULO\n",
              "29            UNIVERSIDADE FEDERAL DE SANTA MARIA\n",
              "30                  UNIVERSIDADE FEDERAL DE GOIAS\n",
              "31    UNIVERSIDADE FEDERAL DO RIO GRANDE DO NORTE\n",
              "32                UNIVERSIDADE FEDERAL FLUMINENSE\n",
              "33      UNIVERSIDADE FEDERAL DO RIO GRANDE DO SUL\n",
              "34          UNIVERSIDADE FEDERAL DA FRONTEIRA SUL\n",
              "35     UNIVERSIDADE TECNOLOGICA FEDERAL DO PARANA\n",
              "36       UNIVERSIDADE FEDERAL RURAL DE PERNAMBUCO\n",
              "37         UNIVERSIDADE FEDERAL RURAL DA AMAZONIA\n",
              "38      UNIVERSIDADE FEDERAL DO DELTA DO PARNAIBA\n",
              "39           UNIVERSIDADE FEDERAL DE RONDONOPOLIS\n",
              "40  UNIVERSIDADE FEDERAL DO AGRESTE DE PERNAMBUCO\n",
              "41                  UNIVERSIDADE FEDERAL DE JATAI\n",
              "42                UNIVERSIDADE FEDERAL DE CATALAO"
            ]
          },
          "metadata": {
            "tags": []
          },
          "execution_count": 53
        }
      ]
    },
    {
      "cell_type": "code",
      "metadata": {
        "id": "wNLyxUVm-NoW",
        "outputId": "671abe67-9913-4978-aaa6-1699d13582a9",
        "colab": {
          "base_uri": "https://localhost:8080/",
          "height": 290
        }
      },
      "source": [
        "query_df = pd.DataFrame({'Consultas':['1','2'],'Tempo':[consulta_1,consulta_2]})\n",
        "axis = query_df.plot.bar(x='Consultas',y='Tempo',rot=0)"
      ],
      "execution_count": null,
      "outputs": [
        {
          "output_type": "display_data",
          "data": {
            "image/png": "[encoded data removed]",
            "text/plain": [
              "<Figure size 432x288 with 1 Axes>"
            ]
          },
          "metadata": {
            "tags": [],
            "needs_background": "light"
          }
        }
      ]
    },
    {
      "cell_type": "markdown",
      "metadata": {
        "id": "R4ypyDVEMsx_"
      },
      "source": [
        "## 6.2 Três consultas envolvendo junção de duas relações"
      ]
    },
    {
      "cell_type": "markdown",
      "metadata": {
        "id": "lzP-LVTIMsyA"
      },
      "source": [
        "### 6.2.1 Consulta 3 (duas versões)\n",
        "\n",
        "Retornar o nome e tratamento de todas ações realizados no ano de 2020 e mês 4."
      ]
    },
    {
      "cell_type": "code",
      "metadata": {
        "id": "vM2jp6xWomK0",
        "outputId": "955a9a3a-100a-4b0d-ce34-41c260f10b9d",
        "colab": {
          "base_uri": "https://localhost:8080/",
          "height": 435
        }
      },
      "source": [
        "start = time.time()\n",
        "\n",
        "query = \"\"\"\n",
        "SELECT DISTINCT\n",
        "  A.NO_ACAO AS Nome, A.TRATAMENTO\n",
        "FROM\n",
        "  ACAO AS A\n",
        "INNER JOIN DESPESA AS D\n",
        "  ON D.ACAO = A.ACAO\n",
        "WHERE\n",
        "  D.ID_ANO = 2020 AND D.ID_MES = 4\n",
        "\"\"\"\n",
        "\n",
        "finish = time.time()\n",
        "consulta_1 = finish-start\n",
        "\n",
        "print('Consulta realizada em %.10f' %consulta_1,'segundos\\n')\n",
        "df = pd.read_sql_query(query, conn)\n",
        "df"
      ],
      "execution_count": null,
      "outputs": [
        {
          "output_type": "stream",
          "text": [
            "Consulta realizada em 0.0000641346 segundos\n",
            "\n"
          ],
          "name": "stdout"
        },
        {
          "output_type": "execute_result",
          "data": {
            "text/html": [
              "<div>\n",
              "<style scoped>\n",
              "    .dataframe tbody tr th:only-of-type {\n",
              "        vertical-align: middle;\n",
              "    }\n",
              "\n",
              "    .dataframe tbody tr th {\n",
              "        vertical-align: top;\n",
              "    }\n",
              "\n",
              "    .dataframe thead th {\n",
              "        text-align: right;\n",
              "    }\n",
              "</style>\n",
              "<table border=\"1\" class=\"dataframe\">\n",
              "  <thead>\n",
              "    <tr style=\"text-align: right;\">\n",
              "      <th></th>\n",
              "      <th>Nome</th>\n",
              "      <th>TRATAMENTO</th>\n",
              "    </tr>\n",
              "  </thead>\n",
              "  <tbody>\n",
              "    <tr>\n",
              "      <th>0</th>\n",
              "      <td>ATIVOS CIVIS DA UNIAO</td>\n",
              "      <td>Despesa sujeita ao teto</td>\n",
              "    </tr>\n",
              "    <tr>\n",
              "      <th>1</th>\n",
              "      <td>ATIVOS CIVIS DA UNIAO</td>\n",
              "      <td>Exceção: Créditos Extraordinários</td>\n",
              "    </tr>\n",
              "    <tr>\n",
              "      <th>2</th>\n",
              "      <td>ATIVOS CIVIS DOS EXTERRITORIOS E DO ANTIGO EST...</td>\n",
              "      <td>Despesa sujeita ao teto</td>\n",
              "    </tr>\n",
              "    <tr>\n",
              "      <th>3</th>\n",
              "      <td>PLEITOS ELEITORAIS</td>\n",
              "      <td>Exceção: Pleitos Eleitorais</td>\n",
              "    </tr>\n",
              "    <tr>\n",
              "      <th>4</th>\n",
              "      <td>SERVICOS PUBLICOS DE EDUCACAO DO DISTRITO FEDERAL</td>\n",
              "      <td>Exceção: FCDF</td>\n",
              "    </tr>\n",
              "    <tr>\n",
              "      <th>...</th>\n",
              "      <td>...</td>\n",
              "      <td>...</td>\n",
              "    </tr>\n",
              "    <tr>\n",
              "      <th>1003</th>\n",
              "      <td>FINANCIAMENTOS A MARINHA MERCANTE E A INDUSTRI...</td>\n",
              "      <td>Exceção: Despesa Financeira</td>\n",
              "    </tr>\n",
              "    <tr>\n",
              "      <th>1004</th>\n",
              "      <td>AQUISICAO DE TERRENOS E CONSTRUCAO DE UNIDADES...</td>\n",
              "      <td>Exceção: Despesa Financeira</td>\n",
              "    </tr>\n",
              "    <tr>\n",
              "      <th>1005</th>\n",
              "      <td>OBRIGACOES COM A GARANTIA DE CONTRATOS DE FINA...</td>\n",
              "      <td>Exceção: Despesa Financeira</td>\n",
              "    </tr>\n",
              "    <tr>\n",
              "      <th>1006</th>\n",
              "      <td>FINANCIAMENTO DE PROGRAMAS DE DESENVOLVIMENTO ...</td>\n",
              "      <td>Exceção: Despesa Financeira</td>\n",
              "    </tr>\n",
              "    <tr>\n",
              "      <th>1007</th>\n",
              "      <td>REFINANCIAMENTO DA DIVIDA PUBLICA MOBILIARIA F...</td>\n",
              "      <td>Exceção: Despesa Financeira</td>\n",
              "    </tr>\n",
              "  </tbody>\n",
              "</table>\n",
              "<p>1008 rows × 2 columns</p>\n",
              "</div>"
            ],
            "text/plain": [
              "                                                   Nome                         TRATAMENTO\n",
              "0                                 ATIVOS CIVIS DA UNIAO            Despesa sujeita ao teto\n",
              "1                                 ATIVOS CIVIS DA UNIAO  Exceção: Créditos Extraordinários\n",
              "2     ATIVOS CIVIS DOS EXTERRITORIOS E DO ANTIGO EST...            Despesa sujeita ao teto\n",
              "3                                    PLEITOS ELEITORAIS        Exceção: Pleitos Eleitorais\n",
              "4     SERVICOS PUBLICOS DE EDUCACAO DO DISTRITO FEDERAL                      Exceção: FCDF\n",
              "...                                                 ...                                ...\n",
              "1003  FINANCIAMENTOS A MARINHA MERCANTE E A INDUSTRI...        Exceção: Despesa Financeira\n",
              "1004  AQUISICAO DE TERRENOS E CONSTRUCAO DE UNIDADES...        Exceção: Despesa Financeira\n",
              "1005  OBRIGACOES COM A GARANTIA DE CONTRATOS DE FINA...        Exceção: Despesa Financeira\n",
              "1006  FINANCIAMENTO DE PROGRAMAS DE DESENVOLVIMENTO ...        Exceção: Despesa Financeira\n",
              "1007  REFINANCIAMENTO DA DIVIDA PUBLICA MOBILIARIA F...        Exceção: Despesa Financeira\n",
              "\n",
              "[1008 rows x 2 columns]"
            ]
          },
          "metadata": {
            "tags": []
          },
          "execution_count": 55
        }
      ]
    },
    {
      "cell_type": "code",
      "metadata": {
        "id": "tXj6n04AomN2",
        "outputId": "d821a27c-5e11-4360-d80e-ddb2b9c517ff",
        "colab": {
          "base_uri": "https://localhost:8080/",
          "height": 435
        }
      },
      "source": [
        "start = time.time()\n",
        "\n",
        "query = \"\"\"\n",
        "SELECT DISTINCT\n",
        "  A.NO_ACAO AS Nome, A.TRATAMENTO AS Tratamento\n",
        "FROM\n",
        "  ACAO AS A\n",
        "INNER JOIN DESPESA AS D\n",
        "  ON D.ACAO = A.ACAO\n",
        "WHERE\n",
        "  A.ACAO IN (SELECT DISTINCT ACAO FROM ACAO WHERE D.ID_ANO = 2020 AND D.ID_MES = 4)\n",
        "\"\"\"\n",
        "\n",
        "finish = time.time()\n",
        "consulta_2 = finish-start\n",
        "\n",
        "print('Consulta realizada em %.10f' %consulta_2,'segundos\\n')\n",
        "df = pd.read_sql_query(query, conn)\n",
        "df"
      ],
      "execution_count": null,
      "outputs": [
        {
          "output_type": "stream",
          "text": [
            "Consulta realizada em 0.0000388622 segundos\n",
            "\n"
          ],
          "name": "stdout"
        },
        {
          "output_type": "execute_result",
          "data": {
            "text/html": [
              "<div>\n",
              "<style scoped>\n",
              "    .dataframe tbody tr th:only-of-type {\n",
              "        vertical-align: middle;\n",
              "    }\n",
              "\n",
              "    .dataframe tbody tr th {\n",
              "        vertical-align: top;\n",
              "    }\n",
              "\n",
              "    .dataframe thead th {\n",
              "        text-align: right;\n",
              "    }\n",
              "</style>\n",
              "<table border=\"1\" class=\"dataframe\">\n",
              "  <thead>\n",
              "    <tr style=\"text-align: right;\">\n",
              "      <th></th>\n",
              "      <th>Nome</th>\n",
              "      <th>Tratamento</th>\n",
              "    </tr>\n",
              "  </thead>\n",
              "  <tbody>\n",
              "    <tr>\n",
              "      <th>0</th>\n",
              "      <td>ATIVOS CIVIS DA UNIAO</td>\n",
              "      <td>Despesa sujeita ao teto</td>\n",
              "    </tr>\n",
              "    <tr>\n",
              "      <th>1</th>\n",
              "      <td>FUNDO DE PARTICIPACAO DOS ESTADOS E DO DISTRIT...</td>\n",
              "      <td>Exceção: Transf. E/M</td>\n",
              "    </tr>\n",
              "    <tr>\n",
              "      <th>2</th>\n",
              "      <td>TRANSFERENCIA DA COTAPARTE DOS ESTADOS E DF EX...</td>\n",
              "      <td>Exceção: Transf. E/M</td>\n",
              "    </tr>\n",
              "    <tr>\n",
              "      <th>3</th>\n",
              "      <td>FUNDO DE MANUTENCAO E DESENVOLVIMENTO DA EDUCA...</td>\n",
              "      <td>Exceção: Transf. E/M</td>\n",
              "    </tr>\n",
              "    <tr>\n",
              "      <th>4</th>\n",
              "      <td>FUNDO DE PARTICIPACAO DOS MUNICIPIOS  FPM (CF,...</td>\n",
              "      <td>Exceção: Transf. E/M</td>\n",
              "    </tr>\n",
              "    <tr>\n",
              "      <th>...</th>\n",
              "      <td>...</td>\n",
              "      <td>...</td>\n",
              "    </tr>\n",
              "    <tr>\n",
              "      <th>1003</th>\n",
              "      <td>IMPLANTACAO E MODERNIZACAO DE INFRAESTRUTURA P...</td>\n",
              "      <td>Exceção: Créditos Extraordinários</td>\n",
              "    </tr>\n",
              "    <tr>\n",
              "      <th>1004</th>\n",
              "      <td>ATIVOS CIVIS DA UNIAO</td>\n",
              "      <td>Exceção: Créditos Extraordinários</td>\n",
              "    </tr>\n",
              "    <tr>\n",
              "      <th>1005</th>\n",
              "      <td>BENEFICIOS OBRIGATORIOS AOS SERVIDORES CIVIS, ...</td>\n",
              "      <td>Exceção: Créditos Extraordinários</td>\n",
              "    </tr>\n",
              "    <tr>\n",
              "      <th>1006</th>\n",
              "      <td>APOIO AO DESENVOLVIMENTO DA EDUCACAO BASICA</td>\n",
              "      <td>Exceção: Créditos Extraordinários</td>\n",
              "    </tr>\n",
              "    <tr>\n",
              "      <th>1007</th>\n",
              "      <td>AQUISICAO DE EQUIPAMENTOS E/OU IMPLANTACAO DE ...</td>\n",
              "      <td>Exceção: Créditos Extraordinários</td>\n",
              "    </tr>\n",
              "  </tbody>\n",
              "</table>\n",
              "<p>1008 rows × 2 columns</p>\n",
              "</div>"
            ],
            "text/plain": [
              "                                                   Nome                         Tratamento\n",
              "0                                 ATIVOS CIVIS DA UNIAO            Despesa sujeita ao teto\n",
              "1     FUNDO DE PARTICIPACAO DOS ESTADOS E DO DISTRIT...               Exceção: Transf. E/M\n",
              "2     TRANSFERENCIA DA COTAPARTE DOS ESTADOS E DF EX...               Exceção: Transf. E/M\n",
              "3     FUNDO DE MANUTENCAO E DESENVOLVIMENTO DA EDUCA...               Exceção: Transf. E/M\n",
              "4     FUNDO DE PARTICIPACAO DOS MUNICIPIOS  FPM (CF,...               Exceção: Transf. E/M\n",
              "...                                                 ...                                ...\n",
              "1003  IMPLANTACAO E MODERNIZACAO DE INFRAESTRUTURA P...  Exceção: Créditos Extraordinários\n",
              "1004                              ATIVOS CIVIS DA UNIAO  Exceção: Créditos Extraordinários\n",
              "1005  BENEFICIOS OBRIGATORIOS AOS SERVIDORES CIVIS, ...  Exceção: Créditos Extraordinários\n",
              "1006        APOIO AO DESENVOLVIMENTO DA EDUCACAO BASICA  Exceção: Créditos Extraordinários\n",
              "1007  AQUISICAO DE EQUIPAMENTOS E/OU IMPLANTACAO DE ...  Exceção: Créditos Extraordinários\n",
              "\n",
              "[1008 rows x 2 columns]"
            ]
          },
          "metadata": {
            "tags": []
          },
          "execution_count": 57
        }
      ]
    },
    {
      "cell_type": "code",
      "metadata": {
        "id": "dbc_gMzM-f_T",
        "outputId": "2839582a-30d6-4c8a-a8fd-a16220f188b4",
        "colab": {
          "base_uri": "https://localhost:8080/",
          "height": 290
        }
      },
      "source": [
        "query_df = pd.DataFrame({'Consultas':['1','2'],'Tempo':[consulta_1,consulta_2]})\n",
        "axis = query_df.plot.bar(x='Consultas',y='Tempo',rot=0)"
      ],
      "execution_count": null,
      "outputs": [
        {
          "output_type": "display_data",
          "data": {
            "image/png": "[encoded data removed]",
            "text/plain": [
              "<Figure size 432x288 with 1 Axes>"
            ]
          },
          "metadata": {
            "tags": [],
            "needs_background": "light"
          }
        }
      ]
    },
    {
      "cell_type": "markdown",
      "metadata": {
        "id": "TUjilr5WMsyA"
      },
      "source": [
        "### 6.2.2 Consulta 4 (duas versões)\n",
        "\n",
        "Retornar a descrição das unidades orçamentárias que tiveram despesas no ano de 2020 e no mês 6."
      ]
    },
    {
      "cell_type": "code",
      "metadata": {
        "id": "XvTrZS1AomtI",
        "outputId": "2121eff6-329a-4472-ca3e-26c184a92a2a",
        "colab": {
          "base_uri": "https://localhost:8080/",
          "height": 435
        }
      },
      "source": [
        "start = time.time()\n",
        "\n",
        "query = \"\"\"\n",
        "SELECT DISTINCT\n",
        "  O.UNIDADE_ORCAMENTARIA_DESCRICAO AS Descricao\n",
        "FROM\n",
        "  ORCAMENTO AS O\n",
        "INNER JOIN DESPESA AS D\n",
        "  ON D.UNIDADE_ORCAMENTARIA_CODIGO = O.UNIDADE_ORCAMENTARIA_CODIGO\n",
        "WHERE\n",
        "  D.ID_ANO = 2020 AND D.ID_MES = 6\n",
        "\"\"\"\n",
        "\n",
        "finish = time.time()\n",
        "consulta_1 = finish-start\n",
        "\n",
        "print('Consulta realizada em %.10f' %consulta_1,'segundos\\n')\n",
        "df = pd.read_sql_query(query, conn)\n",
        "df"
      ],
      "execution_count": null,
      "outputs": [
        {
          "output_type": "stream",
          "text": [
            "Consulta realizada em 0.0000488758 segundos\n",
            "\n"
          ],
          "name": "stdout"
        },
        {
          "output_type": "execute_result",
          "data": {
            "text/html": [
              "<div>\n",
              "<style scoped>\n",
              "    .dataframe tbody tr th:only-of-type {\n",
              "        vertical-align: middle;\n",
              "    }\n",
              "\n",
              "    .dataframe tbody tr th {\n",
              "        vertical-align: top;\n",
              "    }\n",
              "\n",
              "    .dataframe thead th {\n",
              "        text-align: right;\n",
              "    }\n",
              "</style>\n",
              "<table border=\"1\" class=\"dataframe\">\n",
              "  <thead>\n",
              "    <tr style=\"text-align: right;\">\n",
              "      <th></th>\n",
              "      <th>Descricao</th>\n",
              "    </tr>\n",
              "  </thead>\n",
              "  <tbody>\n",
              "    <tr>\n",
              "      <th>0</th>\n",
              "      <td>TRIBUNAL SUPERIOR DO TRABALHO</td>\n",
              "    </tr>\n",
              "    <tr>\n",
              "      <th>1</th>\n",
              "      <td>UNIVERSIDADE FED.VALES JEQUITINHONHA E MUCURI</td>\n",
              "    </tr>\n",
              "    <tr>\n",
              "      <th>2</th>\n",
              "      <td>INST.FED.DE EDUC.,CIENC.E TEC.DO SUDESTE MG</td>\n",
              "    </tr>\n",
              "    <tr>\n",
              "      <th>3</th>\n",
              "      <td>INST.FED.DE EDUC.,CIENC.E TEC.DO R.DE JANEIRO</td>\n",
              "    </tr>\n",
              "    <tr>\n",
              "      <th>4</th>\n",
              "      <td>TRIBUNAL REGIONAL ELEITORAL DO RIO G. DO SUL</td>\n",
              "    </tr>\n",
              "    <tr>\n",
              "      <th>...</th>\n",
              "      <td>...</td>\n",
              "    </tr>\n",
              "    <tr>\n",
              "      <th>403</th>\n",
              "      <td>REC.S/SUP. CAIXA CONST.CASAS P/PESSOAL DA MB</td>\n",
              "    </tr>\n",
              "    <tr>\n",
              "      <th>404</th>\n",
              "      <td>FUNDO DE DESENVOLVIMENTO DO CENTROOESTEFDCO</td>\n",
              "    </tr>\n",
              "    <tr>\n",
              "      <th>405</th>\n",
              "      <td>FUNDO DE COMPENSACAO E VARIACOES SALARIAIS</td>\n",
              "    </tr>\n",
              "    <tr>\n",
              "      <th>406</th>\n",
              "      <td>REC.SOB SUP.CAIXA DE FIN.IMOB.DA AERONAUTICA</td>\n",
              "    </tr>\n",
              "    <tr>\n",
              "      <th>407</th>\n",
              "      <td>REC.SOB SUPERV.DO FUNDO DA MAR.MERCANTE/MT</td>\n",
              "    </tr>\n",
              "  </tbody>\n",
              "</table>\n",
              "<p>408 rows × 1 columns</p>\n",
              "</div>"
            ],
            "text/plain": [
              "                                         Descricao\n",
              "0                    TRIBUNAL SUPERIOR DO TRABALHO\n",
              "1    UNIVERSIDADE FED.VALES JEQUITINHONHA E MUCURI\n",
              "2      INST.FED.DE EDUC.,CIENC.E TEC.DO SUDESTE MG\n",
              "3    INST.FED.DE EDUC.,CIENC.E TEC.DO R.DE JANEIRO\n",
              "4     TRIBUNAL REGIONAL ELEITORAL DO RIO G. DO SUL\n",
              "..                                             ...\n",
              "403   REC.S/SUP. CAIXA CONST.CASAS P/PESSOAL DA MB\n",
              "404    FUNDO DE DESENVOLVIMENTO DO CENTROOESTEFDCO\n",
              "405     FUNDO DE COMPENSACAO E VARIACOES SALARIAIS\n",
              "406   REC.SOB SUP.CAIXA DE FIN.IMOB.DA AERONAUTICA\n",
              "407     REC.SOB SUPERV.DO FUNDO DA MAR.MERCANTE/MT\n",
              "\n",
              "[408 rows x 1 columns]"
            ]
          },
          "metadata": {
            "tags": []
          },
          "execution_count": 62
        }
      ]
    },
    {
      "cell_type": "code",
      "metadata": {
        "id": "w44bLez6omwY",
        "outputId": "0d85243d-7221-46fb-b481-cdc41585a7ff",
        "colab": {
          "base_uri": "https://localhost:8080/",
          "height": 435
        }
      },
      "source": [
        "start = time.time()\n",
        "\n",
        "query = \"\"\"\n",
        "SELECT DISTINCT\n",
        "  O.UNIDADE_ORCAMENTARIA_DESCRICAO AS Descricao\n",
        "FROM\n",
        "  ORCAMENTO AS O\n",
        "INNER JOIN DESPESA AS D\n",
        "  ON D.UNIDADE_ORCAMENTARIA_CODIGO = O.UNIDADE_ORCAMENTARIA_CODIGO\n",
        "WHERE\n",
        "  O.UNIDADE_ORCAMENTARIA_CODIGO IN\n",
        "    (SELECT \n",
        "      UNIDADE_ORCAMENTARIA_CODIGO\n",
        "    FROM \n",
        "      ORCAMENTO \n",
        "    WHERE \n",
        "      D.ID_ANO = 2020 AND D.ID_MES = 6)\n",
        "\"\"\"\n",
        "\n",
        "finish = time.time()\n",
        "consulta_2 = finish-start\n",
        "\n",
        "print('Consulta realizada em %.10f' %consulta_2,'segundos\\n')\n",
        "df = pd.read_sql_query(query, conn)\n",
        "df"
      ],
      "execution_count": null,
      "outputs": [
        {
          "output_type": "stream",
          "text": [
            "Consulta realizada em 0.0000450611 segundos\n",
            "\n"
          ],
          "name": "stdout"
        },
        {
          "output_type": "execute_result",
          "data": {
            "text/html": [
              "<div>\n",
              "<style scoped>\n",
              "    .dataframe tbody tr th:only-of-type {\n",
              "        vertical-align: middle;\n",
              "    }\n",
              "\n",
              "    .dataframe tbody tr th {\n",
              "        vertical-align: top;\n",
              "    }\n",
              "\n",
              "    .dataframe thead th {\n",
              "        text-align: right;\n",
              "    }\n",
              "</style>\n",
              "<table border=\"1\" class=\"dataframe\">\n",
              "  <thead>\n",
              "    <tr style=\"text-align: right;\">\n",
              "      <th></th>\n",
              "      <th>Descricao</th>\n",
              "    </tr>\n",
              "  </thead>\n",
              "  <tbody>\n",
              "    <tr>\n",
              "      <th>0</th>\n",
              "      <td>UNIVERSIDADE FEDERAL RURAL DO RIO DE JANEIRO</td>\n",
              "    </tr>\n",
              "    <tr>\n",
              "      <th>1</th>\n",
              "      <td>CONSELHO NACIONAL DO MINISTERIO PUBLICOCNMP</td>\n",
              "    </tr>\n",
              "    <tr>\n",
              "      <th>2</th>\n",
              "      <td>FUN.UNIV.FED.DE CIENCIAS DA SAUDE DE P.ALEGRE</td>\n",
              "    </tr>\n",
              "    <tr>\n",
              "      <th>3</th>\n",
              "      <td>INST.FED.DE EDUC.,CIENC.E TEC.DO TRIA.MINEIRO</td>\n",
              "    </tr>\n",
              "    <tr>\n",
              "      <th>4</th>\n",
              "      <td>INST.FED.DE EDUC.,CIENC.E TEC.DO NORTE DE MG</td>\n",
              "    </tr>\n",
              "    <tr>\n",
              "      <th>...</th>\n",
              "      <td>...</td>\n",
              "    </tr>\n",
              "    <tr>\n",
              "      <th>403</th>\n",
              "      <td>FUNDO NACIONAL DO IDOSO  FNI</td>\n",
              "    </tr>\n",
              "    <tr>\n",
              "      <th>404</th>\n",
              "      <td>FUNDACAO BIBLIOTECA NACIONAL</td>\n",
              "    </tr>\n",
              "    <tr>\n",
              "      <th>405</th>\n",
              "      <td>DEPARTAMENTO NACIONAL DE PRODUCAO MINERAL</td>\n",
              "    </tr>\n",
              "    <tr>\n",
              "      <th>406</th>\n",
              "      <td>MINISTERIO DAS COMUNICACOES</td>\n",
              "    </tr>\n",
              "    <tr>\n",
              "      <th>407</th>\n",
              "      <td>REC.S/SUP.DO FUNDO NAC.DES.CIENT.E TEC.FNDCT</td>\n",
              "    </tr>\n",
              "  </tbody>\n",
              "</table>\n",
              "<p>408 rows × 1 columns</p>\n",
              "</div>"
            ],
            "text/plain": [
              "                                         Descricao\n",
              "0     UNIVERSIDADE FEDERAL RURAL DO RIO DE JANEIRO\n",
              "1      CONSELHO NACIONAL DO MINISTERIO PUBLICOCNMP\n",
              "2    FUN.UNIV.FED.DE CIENCIAS DA SAUDE DE P.ALEGRE\n",
              "3    INST.FED.DE EDUC.,CIENC.E TEC.DO TRIA.MINEIRO\n",
              "4     INST.FED.DE EDUC.,CIENC.E TEC.DO NORTE DE MG\n",
              "..                                             ...\n",
              "403                   FUNDO NACIONAL DO IDOSO  FNI\n",
              "404                   FUNDACAO BIBLIOTECA NACIONAL\n",
              "405      DEPARTAMENTO NACIONAL DE PRODUCAO MINERAL\n",
              "406                    MINISTERIO DAS COMUNICACOES\n",
              "407   REC.S/SUP.DO FUNDO NAC.DES.CIENT.E TEC.FNDCT\n",
              "\n",
              "[408 rows x 1 columns]"
            ]
          },
          "metadata": {
            "tags": []
          },
          "execution_count": 63
        }
      ]
    },
    {
      "cell_type": "code",
      "metadata": {
        "id": "k5fEbnpx-g_T",
        "outputId": "caafb3c1-cb20-4cad-8499-6e140bb131de",
        "colab": {
          "base_uri": "https://localhost:8080/",
          "height": 290
        }
      },
      "source": [
        "query_df = pd.DataFrame({'Consultas':['1','2'],'Tempo':[consulta_1,consulta_2]})\n",
        "axis = query_df.plot.bar(x='Consultas',y='Tempo',rot=0)"
      ],
      "execution_count": null,
      "outputs": [
        {
          "output_type": "display_data",
          "data": {
            "image/png": "[encoded data removed]",
            "text/plain": [
              "<Figure size 432x288 with 1 Axes>"
            ]
          },
          "metadata": {
            "tags": [],
            "needs_background": "light"
          }
        }
      ]
    },
    {
      "cell_type": "markdown",
      "metadata": {
        "id": "WRVCBqmnMsyB"
      },
      "source": [
        "### 6.2.3 Consulta 5 (duas versões)\n",
        "\n",
        "Retornar o nome das ações que possuem seus pagamentos totais entre 0 e 1000."
      ]
    },
    {
      "cell_type": "code",
      "metadata": {
        "id": "AetyIM09onRO",
        "outputId": "6d82741b-30d2-4a11-c569-57520e06be10",
        "colab": {
          "base_uri": "https://localhost:8080/",
          "height": 435
        }
      },
      "source": [
        "start = time.time()\n",
        "\n",
        "query = \"\"\"\n",
        "SELECT DISTINCT\n",
        "  NO_ACAO\n",
        "FROM\n",
        "  DESPESA INNER JOIN\n",
        "  ACAO\n",
        "WHERE\n",
        "  PAGAMENTOS_TOTAIS >= 0 AND PAGAMENTOS_TOTAIS <= 1000\n",
        "\"\"\"\n",
        "\n",
        "finish = time.time()\n",
        "consulta_1 = finish-start\n",
        "\n",
        "print('Consulta realizada em %.10f' %consulta_1,'segundos\\n')\n",
        "df = pd.read_sql_query(query, conn)\n",
        "df"
      ],
      "execution_count": null,
      "outputs": [
        {
          "output_type": "stream",
          "text": [
            "Consulta realizada em 0.0000464916 segundos\n",
            "\n"
          ],
          "name": "stdout"
        },
        {
          "output_type": "execute_result",
          "data": {
            "text/html": [
              "<div>\n",
              "<style scoped>\n",
              "    .dataframe tbody tr th:only-of-type {\n",
              "        vertical-align: middle;\n",
              "    }\n",
              "\n",
              "    .dataframe tbody tr th {\n",
              "        vertical-align: top;\n",
              "    }\n",
              "\n",
              "    .dataframe thead th {\n",
              "        text-align: right;\n",
              "    }\n",
              "</style>\n",
              "<table border=\"1\" class=\"dataframe\">\n",
              "  <thead>\n",
              "    <tr style=\"text-align: right;\">\n",
              "      <th></th>\n",
              "      <th>NO_ACAO</th>\n",
              "    </tr>\n",
              "  </thead>\n",
              "  <tbody>\n",
              "    <tr>\n",
              "      <th>0</th>\n",
              "      <td>ATIVOS CIVIS DA UNIAO</td>\n",
              "    </tr>\n",
              "    <tr>\n",
              "      <th>1</th>\n",
              "      <td>TRANSFERENCIA DE RECURSOS ARRECADADOS POR TAXA...</td>\n",
              "    </tr>\n",
              "    <tr>\n",
              "      <th>2</th>\n",
              "      <td>FUNDO DE PARTICIPACAO DOS ESTADOS E DO DISTRIT...</td>\n",
              "    </tr>\n",
              "    <tr>\n",
              "      <th>3</th>\n",
              "      <td>TRANSFERENCIA DA COTAPARTE DOS ESTADOS E DF EX...</td>\n",
              "    </tr>\n",
              "    <tr>\n",
              "      <th>4</th>\n",
              "      <td>FUNDO DE MANUTENCAO E DESENVOLVIMENTO DA EDUCA...</td>\n",
              "    </tr>\n",
              "    <tr>\n",
              "      <th>...</th>\n",
              "      <td>...</td>\n",
              "    </tr>\n",
              "    <tr>\n",
              "      <th>1319</th>\n",
              "      <td>CONSTRUCAO DE TRECHO RODOVIARIO  DIVISA BA/MG ...</td>\n",
              "    </tr>\n",
              "    <tr>\n",
              "      <th>1320</th>\n",
              "      <td>CONSTRUCAO DE TRECHO RODOVIARIO  ENTRONCAMENTO...</td>\n",
              "    </tr>\n",
              "    <tr>\n",
              "      <th>1321</th>\n",
              "      <td>ACOES COMPLEMENTARES DE PROTECAO SOCIAL BASICA</td>\n",
              "    </tr>\n",
              "    <tr>\n",
              "      <th>1322</th>\n",
              "      <td>FINANCIAMENTO REEMBOLSAVEL DE PROJETOS PARA MI...</td>\n",
              "    </tr>\n",
              "    <tr>\n",
              "      <th>1323</th>\n",
              "      <td>GESTAO E COMUNICACAO DO PRONASCI</td>\n",
              "    </tr>\n",
              "  </tbody>\n",
              "</table>\n",
              "<p>1324 rows × 1 columns</p>\n",
              "</div>"
            ],
            "text/plain": [
              "                                                NO_ACAO\n",
              "0                                 ATIVOS CIVIS DA UNIAO\n",
              "1     TRANSFERENCIA DE RECURSOS ARRECADADOS POR TAXA...\n",
              "2     FUNDO DE PARTICIPACAO DOS ESTADOS E DO DISTRIT...\n",
              "3     TRANSFERENCIA DA COTAPARTE DOS ESTADOS E DF EX...\n",
              "4     FUNDO DE MANUTENCAO E DESENVOLVIMENTO DA EDUCA...\n",
              "...                                                 ...\n",
              "1319  CONSTRUCAO DE TRECHO RODOVIARIO  DIVISA BA/MG ...\n",
              "1320  CONSTRUCAO DE TRECHO RODOVIARIO  ENTRONCAMENTO...\n",
              "1321     ACOES COMPLEMENTARES DE PROTECAO SOCIAL BASICA\n",
              "1322  FINANCIAMENTO REEMBOLSAVEL DE PROJETOS PARA MI...\n",
              "1323                   GESTAO E COMUNICACAO DO PRONASCI\n",
              "\n",
              "[1324 rows x 1 columns]"
            ]
          },
          "metadata": {
            "tags": []
          },
          "execution_count": 65
        }
      ]
    },
    {
      "cell_type": "code",
      "metadata": {
        "id": "R3AEOB8lonUc",
        "outputId": "8b16026a-943a-42b9-a462-b3942bff83fc",
        "colab": {
          "base_uri": "https://localhost:8080/",
          "height": 435
        }
      },
      "source": [
        "start = time.time()\n",
        "\n",
        "query = \"\"\"\n",
        "SELECT DISTINCT\n",
        "  NO_ACAO\n",
        "FROM\n",
        "  DESPESA NATURAL JOIN\n",
        "  ACAO\n",
        "WHERE\n",
        "  ACAO IN\n",
        "  (SELECT\n",
        "    ACAO\n",
        "  FROM\n",
        "    DESPESA\n",
        "  WHERE\n",
        "    PAGAMENTOS_TOTAIS >= 0 AND PAGAMENTOS_TOTAIS <= 1000)\n",
        "\"\"\"\n",
        "\n",
        "finish = time.time()\n",
        "consulta_2 = finish-start\n",
        "\n",
        "print('Consulta realizada em %.10f' %consulta_2,'segundos\\n')\n",
        "df = pd.read_sql_query(query, conn)\n",
        "df"
      ],
      "execution_count": null,
      "outputs": [
        {
          "output_type": "stream",
          "text": [
            "Consulta realizada em 0.0000312328 segundos\n",
            "\n"
          ],
          "name": "stdout"
        },
        {
          "output_type": "execute_result",
          "data": {
            "text/html": [
              "<div>\n",
              "<style scoped>\n",
              "    .dataframe tbody tr th:only-of-type {\n",
              "        vertical-align: middle;\n",
              "    }\n",
              "\n",
              "    .dataframe tbody tr th {\n",
              "        vertical-align: top;\n",
              "    }\n",
              "\n",
              "    .dataframe thead th {\n",
              "        text-align: right;\n",
              "    }\n",
              "</style>\n",
              "<table border=\"1\" class=\"dataframe\">\n",
              "  <thead>\n",
              "    <tr style=\"text-align: right;\">\n",
              "      <th></th>\n",
              "      <th>NO_ACAO</th>\n",
              "    </tr>\n",
              "  </thead>\n",
              "  <tbody>\n",
              "    <tr>\n",
              "      <th>0</th>\n",
              "      <td>ATIVOS CIVIS DA UNIAO</td>\n",
              "    </tr>\n",
              "    <tr>\n",
              "      <th>1</th>\n",
              "      <td>SENTENCAS JUDICIAIS TRANSITADAS EM JULGADO (PR...</td>\n",
              "    </tr>\n",
              "    <tr>\n",
              "      <th>2</th>\n",
              "      <td>SENTENCAS JUDICIAIS DEVIDAS POR EMPRESAS ESTATAIS</td>\n",
              "    </tr>\n",
              "    <tr>\n",
              "      <th>3</th>\n",
              "      <td>FOMENTO AS ACOES DE GRADUACAO, POSGRADUACAO, E...</td>\n",
              "    </tr>\n",
              "    <tr>\n",
              "      <th>4</th>\n",
              "      <td>FUNCIONAMENTO E GESTAO DE INSTITUICOES HOSPITA...</td>\n",
              "    </tr>\n",
              "    <tr>\n",
              "      <th>...</th>\n",
              "      <td>...</td>\n",
              "    </tr>\n",
              "    <tr>\n",
              "      <th>57</th>\n",
              "      <td>ESTUDOS E PROJETOS PARA IMPLANTACAO DE PROJETO...</td>\n",
              "    </tr>\n",
              "    <tr>\n",
              "      <th>58</th>\n",
              "      <td>PESQUISA E INFORMACOES FLORESTAIS</td>\n",
              "    </tr>\n",
              "    <tr>\n",
              "      <th>59</th>\n",
              "      <td>AMPLIACAO DA REDE NACIONAL DE MONITORAMENTO ME...</td>\n",
              "    </tr>\n",
              "    <tr>\n",
              "      <th>60</th>\n",
              "      <td>REFORMAS DE EDIFICACOES DO MINISTERIO DA CIENC...</td>\n",
              "    </tr>\n",
              "    <tr>\n",
              "      <th>61</th>\n",
              "      <td>APOIO A ALIMENTACAO ESCOLAR NA EDUCACAO BASICA...</td>\n",
              "    </tr>\n",
              "  </tbody>\n",
              "</table>\n",
              "<p>62 rows × 1 columns</p>\n",
              "</div>"
            ],
            "text/plain": [
              "                                              NO_ACAO\n",
              "0                               ATIVOS CIVIS DA UNIAO\n",
              "1   SENTENCAS JUDICIAIS TRANSITADAS EM JULGADO (PR...\n",
              "2   SENTENCAS JUDICIAIS DEVIDAS POR EMPRESAS ESTATAIS\n",
              "3   FOMENTO AS ACOES DE GRADUACAO, POSGRADUACAO, E...\n",
              "4   FUNCIONAMENTO E GESTAO DE INSTITUICOES HOSPITA...\n",
              "..                                                ...\n",
              "57  ESTUDOS E PROJETOS PARA IMPLANTACAO DE PROJETO...\n",
              "58                  PESQUISA E INFORMACOES FLORESTAIS\n",
              "59  AMPLIACAO DA REDE NACIONAL DE MONITORAMENTO ME...\n",
              "60  REFORMAS DE EDIFICACOES DO MINISTERIO DA CIENC...\n",
              "61  APOIO A ALIMENTACAO ESCOLAR NA EDUCACAO BASICA...\n",
              "\n",
              "[62 rows x 1 columns]"
            ]
          },
          "metadata": {
            "tags": []
          },
          "execution_count": 66
        }
      ]
    },
    {
      "cell_type": "code",
      "metadata": {
        "id": "oN-IaV4B-h97",
        "outputId": "2be7f34e-8965-4cbd-dc92-22d8673a3241",
        "colab": {
          "base_uri": "https://localhost:8080/",
          "height": 290
        }
      },
      "source": [
        "query_df = pd.DataFrame({'Consultas':['1','2'],'Tempo':[consulta_1,consulta_2]})\n",
        "axis = query_df.plot.bar(x='Consultas',y='Tempo',rot=0)"
      ],
      "execution_count": null,
      "outputs": [
        {
          "output_type": "display_data",
          "data": {
            "image/png": "[encoded data removed]",
            "text/plain": [
              "<Figure size 432x288 with 1 Axes>"
            ]
          },
          "metadata": {
            "tags": [],
            "needs_background": "light"
          }
        }
      ]
    },
    {
      "cell_type": "markdown",
      "metadata": {
        "id": "lgo4SeE6MsyC"
      },
      "source": [
        "## 6.3 Três consultas envolvendo junção de três ou mais relações"
      ]
    },
    {
      "cell_type": "markdown",
      "metadata": {
        "id": "dasXXVfgMsyD"
      },
      "source": [
        "### 6.3.1 Consulta 6 (duas versões)\n",
        "\n",
        "Retornar o nome de todas as subfunções que se relacionam com a função “TRANSPORTE”."
      ]
    },
    {
      "cell_type": "code",
      "metadata": {
        "id": "ya6EDJ50on__",
        "outputId": "228eb2ab-bb8c-4430-c058-915cb3759cee",
        "colab": {
          "base_uri": "https://localhost:8080/",
          "height": 554
        }
      },
      "source": [
        "start = time.time()\n",
        "\n",
        "query = \"\"\"\n",
        "SELECT\n",
        "  NO_SUBFUNCAO_PT\n",
        "FROM \n",
        "  DETALHAMENTO_FUNCAO NATURAL JOIN\n",
        "  FUNCAO NATURAL JOIN\n",
        "  SUBFUNCAO\n",
        "WHERE\n",
        "  NO_FUNCAO_PT = 'TRANSPORTE'\n",
        "\"\"\"\n",
        "\n",
        "finish = time.time()\n",
        "consulta_1 = finish-start\n",
        "\n",
        "print('Consulta realizada em %.10f' %consulta_1,'segundos\\n')\n",
        "df = pd.read_sql_query(query, conn)\n",
        "df"
      ],
      "execution_count": null,
      "outputs": [
        {
          "output_type": "stream",
          "text": [
            "Consulta realizada em 0.0000748634 segundos\n",
            "\n"
          ],
          "name": "stdout"
        },
        {
          "output_type": "execute_result",
          "data": {
            "text/html": [
              "<div>\n",
              "<style scoped>\n",
              "    .dataframe tbody tr th:only-of-type {\n",
              "        vertical-align: middle;\n",
              "    }\n",
              "\n",
              "    .dataframe tbody tr th {\n",
              "        vertical-align: top;\n",
              "    }\n",
              "\n",
              "    .dataframe thead th {\n",
              "        text-align: right;\n",
              "    }\n",
              "</style>\n",
              "<table border=\"1\" class=\"dataframe\">\n",
              "  <thead>\n",
              "    <tr style=\"text-align: right;\">\n",
              "      <th></th>\n",
              "      <th>NO_SUBFUNCAO_PT</th>\n",
              "    </tr>\n",
              "  </thead>\n",
              "  <tbody>\n",
              "    <tr>\n",
              "      <th>0</th>\n",
              "      <td>PLANEJAMENTO E ORCAMENTO</td>\n",
              "    </tr>\n",
              "    <tr>\n",
              "      <th>1</th>\n",
              "      <td>ADMINISTRACAO GERAL</td>\n",
              "    </tr>\n",
              "    <tr>\n",
              "      <th>2</th>\n",
              "      <td>NORMATIZACAO E FISCALIZACAO</td>\n",
              "    </tr>\n",
              "    <tr>\n",
              "      <th>3</th>\n",
              "      <td>TECNOLOGIA DA INFORMACAO</td>\n",
              "    </tr>\n",
              "    <tr>\n",
              "      <th>4</th>\n",
              "      <td>FORMACAO DE RECURSOS HUMANOS</td>\n",
              "    </tr>\n",
              "    <tr>\n",
              "      <th>5</th>\n",
              "      <td>ADMINISTRACAO DE CONCESSOES</td>\n",
              "    </tr>\n",
              "    <tr>\n",
              "      <th>6</th>\n",
              "      <td>COMUNICACAO SOCIAL</td>\n",
              "    </tr>\n",
              "    <tr>\n",
              "      <th>7</th>\n",
              "      <td>ATENCAO BASICA</td>\n",
              "    </tr>\n",
              "    <tr>\n",
              "      <th>8</th>\n",
              "      <td>PROTECAO E BENEFICIOS AO TRABALHADOR</td>\n",
              "    </tr>\n",
              "    <tr>\n",
              "      <th>9</th>\n",
              "      <td>SERVICOS URBANOS</td>\n",
              "    </tr>\n",
              "    <tr>\n",
              "      <th>10</th>\n",
              "      <td>PROMOCAO INDUSTRIAL</td>\n",
              "    </tr>\n",
              "    <tr>\n",
              "      <th>11</th>\n",
              "      <td>TRANSPORTE AEREO</td>\n",
              "    </tr>\n",
              "    <tr>\n",
              "      <th>12</th>\n",
              "      <td>TRANSPORTE RODOVIARIO</td>\n",
              "    </tr>\n",
              "    <tr>\n",
              "      <th>13</th>\n",
              "      <td>TRANSPORTE FERROVIARIO</td>\n",
              "    </tr>\n",
              "    <tr>\n",
              "      <th>14</th>\n",
              "      <td>TRANSPORTE HIDROVIARIO</td>\n",
              "    </tr>\n",
              "    <tr>\n",
              "      <th>15</th>\n",
              "      <td>OUTROS ENCARGOS ESPECIAIS</td>\n",
              "    </tr>\n",
              "  </tbody>\n",
              "</table>\n",
              "</div>"
            ],
            "text/plain": [
              "                         NO_SUBFUNCAO_PT\n",
              "0               PLANEJAMENTO E ORCAMENTO\n",
              "1                    ADMINISTRACAO GERAL\n",
              "2            NORMATIZACAO E FISCALIZACAO\n",
              "3               TECNOLOGIA DA INFORMACAO\n",
              "4           FORMACAO DE RECURSOS HUMANOS\n",
              "5            ADMINISTRACAO DE CONCESSOES\n",
              "6                     COMUNICACAO SOCIAL\n",
              "7                         ATENCAO BASICA\n",
              "8   PROTECAO E BENEFICIOS AO TRABALHADOR\n",
              "9                       SERVICOS URBANOS\n",
              "10                   PROMOCAO INDUSTRIAL\n",
              "11                      TRANSPORTE AEREO\n",
              "12                 TRANSPORTE RODOVIARIO\n",
              "13                TRANSPORTE FERROVIARIO\n",
              "14                TRANSPORTE HIDROVIARIO\n",
              "15             OUTROS ENCARGOS ESPECIAIS"
            ]
          },
          "metadata": {
            "tags": []
          },
          "execution_count": 68
        }
      ]
    },
    {
      "cell_type": "code",
      "metadata": {
        "id": "Ra1rpG5fooDE",
        "outputId": "75857f4e-0057-4aa9-e055-1d1cac5853fd",
        "colab": {
          "base_uri": "https://localhost:8080/",
          "height": 554
        }
      },
      "source": [
        "start = time.time()\n",
        "\n",
        "query = \"\"\"\n",
        "SELECT\n",
        "  NO_SUBFUNCAO_PT\n",
        "FROM \n",
        "  DETALHAMENTO_FUNCAO NATURAL JOIN\n",
        "  (SELECT * FROM FUNCAO WHERE NO_FUNCAO_PT = 'TRANSPORTE') NATURAL JOIN\n",
        "  SUBFUNCAO  \n",
        "\"\"\"\n",
        "\n",
        "finish = time.time()\n",
        "consulta_2 = finish-start\n",
        "\n",
        "print('Consulta realizada em %.10f' %consulta_2,'segundos\\n')\n",
        "df = pd.read_sql_query(query, conn)\n",
        "df"
      ],
      "execution_count": null,
      "outputs": [
        {
          "output_type": "stream",
          "text": [
            "Consulta realizada em 0.0000336170 segundos\n",
            "\n"
          ],
          "name": "stdout"
        },
        {
          "output_type": "execute_result",
          "data": {
            "text/html": [
              "<div>\n",
              "<style scoped>\n",
              "    .dataframe tbody tr th:only-of-type {\n",
              "        vertical-align: middle;\n",
              "    }\n",
              "\n",
              "    .dataframe tbody tr th {\n",
              "        vertical-align: top;\n",
              "    }\n",
              "\n",
              "    .dataframe thead th {\n",
              "        text-align: right;\n",
              "    }\n",
              "</style>\n",
              "<table border=\"1\" class=\"dataframe\">\n",
              "  <thead>\n",
              "    <tr style=\"text-align: right;\">\n",
              "      <th></th>\n",
              "      <th>NO_SUBFUNCAO_PT</th>\n",
              "    </tr>\n",
              "  </thead>\n",
              "  <tbody>\n",
              "    <tr>\n",
              "      <th>0</th>\n",
              "      <td>PLANEJAMENTO E ORCAMENTO</td>\n",
              "    </tr>\n",
              "    <tr>\n",
              "      <th>1</th>\n",
              "      <td>ADMINISTRACAO GERAL</td>\n",
              "    </tr>\n",
              "    <tr>\n",
              "      <th>2</th>\n",
              "      <td>NORMATIZACAO E FISCALIZACAO</td>\n",
              "    </tr>\n",
              "    <tr>\n",
              "      <th>3</th>\n",
              "      <td>TECNOLOGIA DA INFORMACAO</td>\n",
              "    </tr>\n",
              "    <tr>\n",
              "      <th>4</th>\n",
              "      <td>FORMACAO DE RECURSOS HUMANOS</td>\n",
              "    </tr>\n",
              "    <tr>\n",
              "      <th>5</th>\n",
              "      <td>ADMINISTRACAO DE CONCESSOES</td>\n",
              "    </tr>\n",
              "    <tr>\n",
              "      <th>6</th>\n",
              "      <td>COMUNICACAO SOCIAL</td>\n",
              "    </tr>\n",
              "    <tr>\n",
              "      <th>7</th>\n",
              "      <td>ATENCAO BASICA</td>\n",
              "    </tr>\n",
              "    <tr>\n",
              "      <th>8</th>\n",
              "      <td>PROTECAO E BENEFICIOS AO TRABALHADOR</td>\n",
              "    </tr>\n",
              "    <tr>\n",
              "      <th>9</th>\n",
              "      <td>SERVICOS URBANOS</td>\n",
              "    </tr>\n",
              "    <tr>\n",
              "      <th>10</th>\n",
              "      <td>PROMOCAO INDUSTRIAL</td>\n",
              "    </tr>\n",
              "    <tr>\n",
              "      <th>11</th>\n",
              "      <td>TRANSPORTE AEREO</td>\n",
              "    </tr>\n",
              "    <tr>\n",
              "      <th>12</th>\n",
              "      <td>TRANSPORTE RODOVIARIO</td>\n",
              "    </tr>\n",
              "    <tr>\n",
              "      <th>13</th>\n",
              "      <td>TRANSPORTE FERROVIARIO</td>\n",
              "    </tr>\n",
              "    <tr>\n",
              "      <th>14</th>\n",
              "      <td>TRANSPORTE HIDROVIARIO</td>\n",
              "    </tr>\n",
              "    <tr>\n",
              "      <th>15</th>\n",
              "      <td>OUTROS ENCARGOS ESPECIAIS</td>\n",
              "    </tr>\n",
              "  </tbody>\n",
              "</table>\n",
              "</div>"
            ],
            "text/plain": [
              "                         NO_SUBFUNCAO_PT\n",
              "0               PLANEJAMENTO E ORCAMENTO\n",
              "1                    ADMINISTRACAO GERAL\n",
              "2            NORMATIZACAO E FISCALIZACAO\n",
              "3               TECNOLOGIA DA INFORMACAO\n",
              "4           FORMACAO DE RECURSOS HUMANOS\n",
              "5            ADMINISTRACAO DE CONCESSOES\n",
              "6                     COMUNICACAO SOCIAL\n",
              "7                         ATENCAO BASICA\n",
              "8   PROTECAO E BENEFICIOS AO TRABALHADOR\n",
              "9                       SERVICOS URBANOS\n",
              "10                   PROMOCAO INDUSTRIAL\n",
              "11                      TRANSPORTE AEREO\n",
              "12                 TRANSPORTE RODOVIARIO\n",
              "13                TRANSPORTE FERROVIARIO\n",
              "14                TRANSPORTE HIDROVIARIO\n",
              "15             OUTROS ENCARGOS ESPECIAIS"
            ]
          },
          "metadata": {
            "tags": []
          },
          "execution_count": 69
        }
      ]
    },
    {
      "cell_type": "code",
      "metadata": {
        "id": "2WdXosCs-jA1",
        "outputId": "6df62cde-aebe-4cad-f6dd-40032d6f7ce9",
        "colab": {
          "base_uri": "https://localhost:8080/",
          "height": 290
        }
      },
      "source": [
        "query_df = pd.DataFrame({'Consultas':['1','2'],'Tempo':[consulta_1,consulta_2]})\n",
        "axis = query_df.plot.bar(x='Consultas',y='Tempo',rot=0)"
      ],
      "execution_count": null,
      "outputs": [
        {
          "output_type": "display_data",
          "data": {
            "image/png": "[encoded data removed]",
            "text/plain": [
              "<Figure size 432x288 with 1 Axes>"
            ]
          },
          "metadata": {
            "tags": [],
            "needs_background": "light"
          }
        }
      ]
    },
    {
      "cell_type": "markdown",
      "metadata": {
        "id": "HM2zFjTLMsyE"
      },
      "source": [
        "### 6.3.2 Consulta 7 (duas versões)\n",
        "\n",
        "Retornar o nome de todos os programas do órgão “MINISTERIO DA EDUCACAO”."
      ]
    },
    {
      "cell_type": "code",
      "metadata": {
        "id": "YjOVND44oo7H",
        "outputId": "7b1b52a5-4e99-4902-e5d3-b70f6d2dbc43",
        "colab": {
          "base_uri": "https://localhost:8080/",
          "height": 584
        }
      },
      "source": [
        "start = time.time()\n",
        "\n",
        "query = \"\"\"\n",
        "SELECT DISTINCT\n",
        "  NO_PROGRAMA_PT\n",
        "FROM\n",
        "  DESPESA NATURAL JOIN\n",
        "  ORGAO NATURAL JOIN\n",
        "  PROGRAMA\n",
        "WHERE\n",
        "  ORGAO_DESCRICAO = 'MINISTERIO DA EDUCACAO'\n",
        "\"\"\"\n",
        "\n",
        "finish = time.time()\n",
        "consulta_1 = finish-start\n",
        "\n",
        "print('Consulta realizada em %.10f' %consulta_1,'segundos\\n')\n",
        "df = pd.read_sql_query(query, conn)\n",
        "df"
      ],
      "execution_count": null,
      "outputs": [
        {
          "output_type": "stream",
          "text": [
            "Consulta realizada em 0.0000445843 segundos\n",
            "\n"
          ],
          "name": "stdout"
        },
        {
          "output_type": "execute_result",
          "data": {
            "text/html": [
              "<div>\n",
              "<style scoped>\n",
              "    .dataframe tbody tr th:only-of-type {\n",
              "        vertical-align: middle;\n",
              "    }\n",
              "\n",
              "    .dataframe tbody tr th {\n",
              "        vertical-align: top;\n",
              "    }\n",
              "\n",
              "    .dataframe thead th {\n",
              "        text-align: right;\n",
              "    }\n",
              "</style>\n",
              "<table border=\"1\" class=\"dataframe\">\n",
              "  <thead>\n",
              "    <tr style=\"text-align: right;\">\n",
              "      <th></th>\n",
              "      <th>NO_PROGRAMA_PT</th>\n",
              "    </tr>\n",
              "  </thead>\n",
              "  <tbody>\n",
              "    <tr>\n",
              "      <th>0</th>\n",
              "      <td>DESENVOLVIMENTO DA EDUCACAO PROFISSIONAL E TEC...</td>\n",
              "    </tr>\n",
              "    <tr>\n",
              "      <th>1</th>\n",
              "      <td>BRASIL UNIVERSITARIO</td>\n",
              "    </tr>\n",
              "    <tr>\n",
              "      <th>2</th>\n",
              "      <td>EDUCACAO BASICA</td>\n",
              "    </tr>\n",
              "    <tr>\n",
              "      <th>3</th>\n",
              "      <td>EDUCACAO PROFISSIONAL E TECNOLOGICA</td>\n",
              "    </tr>\n",
              "    <tr>\n",
              "      <th>4</th>\n",
              "      <td>EDUCACAO SUPERIOR  GRADUACAO, POSGRADUACAO, EN...</td>\n",
              "    </tr>\n",
              "    <tr>\n",
              "      <th>5</th>\n",
              "      <td>EDUCACAO DE QUALIDADE PARA TODOS</td>\n",
              "    </tr>\n",
              "    <tr>\n",
              "      <th>6</th>\n",
              "      <td>PROGRAMA DE GESTAO E MANUTENCAO DO MINISTERIO ...</td>\n",
              "    </tr>\n",
              "    <tr>\n",
              "      <th>7</th>\n",
              "      <td>PROGRAMA DE GESTAO E MANUTENCAO DO PODER EXECU...</td>\n",
              "    </tr>\n",
              "    <tr>\n",
              "      <th>8</th>\n",
              "      <td>EDUCACAO BASICA DE QUALIDADE</td>\n",
              "    </tr>\n",
              "    <tr>\n",
              "      <th>9</th>\n",
              "      <td>ESTATISTICAS E AVALIACOES EDUCACIONAIS</td>\n",
              "    </tr>\n",
              "    <tr>\n",
              "      <th>10</th>\n",
              "      <td>PREVIDENCIA DE INATIVOS E PENSIONISTAS DA UNIAO</td>\n",
              "    </tr>\n",
              "    <tr>\n",
              "      <th>11</th>\n",
              "      <td>OPERACOES ESPECIAIS: CUMPRIMENTO DE SENTENCAS ...</td>\n",
              "    </tr>\n",
              "    <tr>\n",
              "      <th>12</th>\n",
              "      <td>OPERACOES ESPECIAIS: FINANCIAMENTOS COM RETORNO</td>\n",
              "    </tr>\n",
              "    <tr>\n",
              "      <th>13</th>\n",
              "      <td>OPERACOES ESPECIAIS: TRANSFERENCIAS CONSTITUCI...</td>\n",
              "    </tr>\n",
              "    <tr>\n",
              "      <th>14</th>\n",
              "      <td>OPERACOES ESPECIAIS: OUTROS ENCARGOS ESPECIAIS</td>\n",
              "    </tr>\n",
              "    <tr>\n",
              "      <th>15</th>\n",
              "      <td>OPERACOES ESPECIAIS: GESTAO DA PARTICIPACAO EM...</td>\n",
              "    </tr>\n",
              "    <tr>\n",
              "      <th>16</th>\n",
              "      <td>N.D.</td>\n",
              "    </tr>\n",
              "  </tbody>\n",
              "</table>\n",
              "</div>"
            ],
            "text/plain": [
              "                                       NO_PROGRAMA_PT\n",
              "0   DESENVOLVIMENTO DA EDUCACAO PROFISSIONAL E TEC...\n",
              "1                                BRASIL UNIVERSITARIO\n",
              "2                                     EDUCACAO BASICA\n",
              "3                 EDUCACAO PROFISSIONAL E TECNOLOGICA\n",
              "4   EDUCACAO SUPERIOR  GRADUACAO, POSGRADUACAO, EN...\n",
              "5                    EDUCACAO DE QUALIDADE PARA TODOS\n",
              "6   PROGRAMA DE GESTAO E MANUTENCAO DO MINISTERIO ...\n",
              "7   PROGRAMA DE GESTAO E MANUTENCAO DO PODER EXECU...\n",
              "8                        EDUCACAO BASICA DE QUALIDADE\n",
              "9              ESTATISTICAS E AVALIACOES EDUCACIONAIS\n",
              "10    PREVIDENCIA DE INATIVOS E PENSIONISTAS DA UNIAO\n",
              "11  OPERACOES ESPECIAIS: CUMPRIMENTO DE SENTENCAS ...\n",
              "12    OPERACOES ESPECIAIS: FINANCIAMENTOS COM RETORNO\n",
              "13  OPERACOES ESPECIAIS: TRANSFERENCIAS CONSTITUCI...\n",
              "14     OPERACOES ESPECIAIS: OUTROS ENCARGOS ESPECIAIS\n",
              "15  OPERACOES ESPECIAIS: GESTAO DA PARTICIPACAO EM...\n",
              "16                                               N.D."
            ]
          },
          "metadata": {
            "tags": []
          },
          "execution_count": 71
        }
      ]
    },
    {
      "cell_type": "code",
      "metadata": {
        "id": "rbRyUlckoo-R",
        "outputId": "47fd69e5-3082-4cb8-ca30-7f1e29140b26",
        "colab": {
          "base_uri": "https://localhost:8080/",
          "height": 584
        }
      },
      "source": [
        "start = time.time()\n",
        "\n",
        "query = \"\"\"\n",
        "SELECT DISTINCT\n",
        "  NO_PROGRAMA_PT\n",
        "FROM\n",
        "  DESPESA NATURAL JOIN\n",
        "  (SELECT * FROM ORGAO WHERE ORGAO_DESCRICAO = 'MINISTERIO DA EDUCACAO') NATURAL JOIN\n",
        "  PROGRAMA\n",
        "\"\"\"\n",
        "\n",
        "finish = time.time()\n",
        "consulta_2 = finish-start\n",
        "\n",
        "print('Consulta realizada em %.10f' %consulta_2,'segundos\\n')\n",
        "df = pd.read_sql_query(query, conn)\n",
        "df"
      ],
      "execution_count": null,
      "outputs": [
        {
          "output_type": "stream",
          "text": [
            "Consulta realizada em 0.0000305176 segundos\n",
            "\n"
          ],
          "name": "stdout"
        },
        {
          "output_type": "execute_result",
          "data": {
            "text/html": [
              "<div>\n",
              "<style scoped>\n",
              "    .dataframe tbody tr th:only-of-type {\n",
              "        vertical-align: middle;\n",
              "    }\n",
              "\n",
              "    .dataframe tbody tr th {\n",
              "        vertical-align: top;\n",
              "    }\n",
              "\n",
              "    .dataframe thead th {\n",
              "        text-align: right;\n",
              "    }\n",
              "</style>\n",
              "<table border=\"1\" class=\"dataframe\">\n",
              "  <thead>\n",
              "    <tr style=\"text-align: right;\">\n",
              "      <th></th>\n",
              "      <th>NO_PROGRAMA_PT</th>\n",
              "    </tr>\n",
              "  </thead>\n",
              "  <tbody>\n",
              "    <tr>\n",
              "      <th>0</th>\n",
              "      <td>DESENVOLVIMENTO DA EDUCACAO PROFISSIONAL E TEC...</td>\n",
              "    </tr>\n",
              "    <tr>\n",
              "      <th>1</th>\n",
              "      <td>BRASIL UNIVERSITARIO</td>\n",
              "    </tr>\n",
              "    <tr>\n",
              "      <th>2</th>\n",
              "      <td>EDUCACAO BASICA</td>\n",
              "    </tr>\n",
              "    <tr>\n",
              "      <th>3</th>\n",
              "      <td>EDUCACAO PROFISSIONAL E TECNOLOGICA</td>\n",
              "    </tr>\n",
              "    <tr>\n",
              "      <th>4</th>\n",
              "      <td>EDUCACAO SUPERIOR  GRADUACAO, POSGRADUACAO, EN...</td>\n",
              "    </tr>\n",
              "    <tr>\n",
              "      <th>5</th>\n",
              "      <td>EDUCACAO DE QUALIDADE PARA TODOS</td>\n",
              "    </tr>\n",
              "    <tr>\n",
              "      <th>6</th>\n",
              "      <td>PROGRAMA DE GESTAO E MANUTENCAO DO MINISTERIO ...</td>\n",
              "    </tr>\n",
              "    <tr>\n",
              "      <th>7</th>\n",
              "      <td>PROGRAMA DE GESTAO E MANUTENCAO DO PODER EXECU...</td>\n",
              "    </tr>\n",
              "    <tr>\n",
              "      <th>8</th>\n",
              "      <td>EDUCACAO BASICA DE QUALIDADE</td>\n",
              "    </tr>\n",
              "    <tr>\n",
              "      <th>9</th>\n",
              "      <td>ESTATISTICAS E AVALIACOES EDUCACIONAIS</td>\n",
              "    </tr>\n",
              "    <tr>\n",
              "      <th>10</th>\n",
              "      <td>PREVIDENCIA DE INATIVOS E PENSIONISTAS DA UNIAO</td>\n",
              "    </tr>\n",
              "    <tr>\n",
              "      <th>11</th>\n",
              "      <td>OPERACOES ESPECIAIS: CUMPRIMENTO DE SENTENCAS ...</td>\n",
              "    </tr>\n",
              "    <tr>\n",
              "      <th>12</th>\n",
              "      <td>OPERACOES ESPECIAIS: FINANCIAMENTOS COM RETORNO</td>\n",
              "    </tr>\n",
              "    <tr>\n",
              "      <th>13</th>\n",
              "      <td>OPERACOES ESPECIAIS: TRANSFERENCIAS CONSTITUCI...</td>\n",
              "    </tr>\n",
              "    <tr>\n",
              "      <th>14</th>\n",
              "      <td>OPERACOES ESPECIAIS: OUTROS ENCARGOS ESPECIAIS</td>\n",
              "    </tr>\n",
              "    <tr>\n",
              "      <th>15</th>\n",
              "      <td>OPERACOES ESPECIAIS: GESTAO DA PARTICIPACAO EM...</td>\n",
              "    </tr>\n",
              "    <tr>\n",
              "      <th>16</th>\n",
              "      <td>N.D.</td>\n",
              "    </tr>\n",
              "  </tbody>\n",
              "</table>\n",
              "</div>"
            ],
            "text/plain": [
              "                                       NO_PROGRAMA_PT\n",
              "0   DESENVOLVIMENTO DA EDUCACAO PROFISSIONAL E TEC...\n",
              "1                                BRASIL UNIVERSITARIO\n",
              "2                                     EDUCACAO BASICA\n",
              "3                 EDUCACAO PROFISSIONAL E TECNOLOGICA\n",
              "4   EDUCACAO SUPERIOR  GRADUACAO, POSGRADUACAO, EN...\n",
              "5                    EDUCACAO DE QUALIDADE PARA TODOS\n",
              "6   PROGRAMA DE GESTAO E MANUTENCAO DO MINISTERIO ...\n",
              "7   PROGRAMA DE GESTAO E MANUTENCAO DO PODER EXECU...\n",
              "8                        EDUCACAO BASICA DE QUALIDADE\n",
              "9              ESTATISTICAS E AVALIACOES EDUCACIONAIS\n",
              "10    PREVIDENCIA DE INATIVOS E PENSIONISTAS DA UNIAO\n",
              "11  OPERACOES ESPECIAIS: CUMPRIMENTO DE SENTENCAS ...\n",
              "12    OPERACOES ESPECIAIS: FINANCIAMENTOS COM RETORNO\n",
              "13  OPERACOES ESPECIAIS: TRANSFERENCIAS CONSTITUCI...\n",
              "14     OPERACOES ESPECIAIS: OUTROS ENCARGOS ESPECIAIS\n",
              "15  OPERACOES ESPECIAIS: GESTAO DA PARTICIPACAO EM...\n",
              "16                                               N.D."
            ]
          },
          "metadata": {
            "tags": []
          },
          "execution_count": 72
        }
      ]
    },
    {
      "cell_type": "code",
      "metadata": {
        "id": "85IZo_6v-kDT",
        "outputId": "2f1bcc71-fbed-4dae-f558-26f95a0042f9",
        "colab": {
          "base_uri": "https://localhost:8080/",
          "height": 290
        }
      },
      "source": [
        "query_df = pd.DataFrame({'Consultas':['1','2'],'Tempo':[consulta_1,consulta_2]})\n",
        "axis = query_df.plot.bar(x='Consultas',y='Tempo',rot=0)"
      ],
      "execution_count": null,
      "outputs": [
        {
          "output_type": "display_data",
          "data": {
            "image/png": "[encoded data removed]",
            "text/plain": [
              "<Figure size 432x288 with 1 Axes>"
            ]
          },
          "metadata": {
            "tags": [],
            "needs_background": "light"
          }
        }
      ]
    },
    {
      "cell_type": "markdown",
      "metadata": {
        "id": "m_dimi3aMsyF"
      },
      "source": [
        "### 6.3.3 Consulta 8 (duas versões)\n",
        "\n",
        "Retornar o nome de todos os órgãos que se relacionaram com orçamento de descrição “MINISTERIO DA FAZENDA” no ano de 2020."
      ]
    },
    {
      "cell_type": "code",
      "metadata": {
        "id": "5p8NJe3Ropm7",
        "outputId": "2d47afc0-e2e1-4e45-b98b-cd8550a469b2",
        "colab": {
          "base_uri": "https://localhost:8080/",
          "height": 140
        }
      },
      "source": [
        "start = time.time()\n",
        "\n",
        "query = \"\"\"\n",
        "SELECT DISTINCT\n",
        "  ORGAO_DESCRICAO\n",
        "FROM\n",
        "  ORGAO\n",
        "NATURAL JOIN\n",
        "  DESPESA\n",
        "NATURAL JOIN\n",
        "  ORCAMENTO\n",
        "WHERE\n",
        "  ORCAMENTO.UNIDADE_ORCAMENTARIA_DESCRICAO = 'MINISTERIO DA FAZENDA' AND DESPESA.ID_ANO = '2020'\n",
        "\"\"\"\n",
        "\n",
        "finish = time.time()\n",
        "consulta_1 = finish-start\n",
        "\n",
        "print('Consulta realizada em %.10f' %consulta_1,'segundos\\n')\n",
        "df = pd.read_sql_query(query, conn)\n",
        "df"
      ],
      "execution_count": null,
      "outputs": [
        {
          "output_type": "stream",
          "text": [
            "Consulta realizada em 0.0000312328 segundos\n",
            "\n"
          ],
          "name": "stdout"
        },
        {
          "output_type": "execute_result",
          "data": {
            "text/html": [
              "<div>\n",
              "<style scoped>\n",
              "    .dataframe tbody tr th:only-of-type {\n",
              "        vertical-align: middle;\n",
              "    }\n",
              "\n",
              "    .dataframe tbody tr th {\n",
              "        vertical-align: top;\n",
              "    }\n",
              "\n",
              "    .dataframe thead th {\n",
              "        text-align: right;\n",
              "    }\n",
              "</style>\n",
              "<table border=\"1\" class=\"dataframe\">\n",
              "  <thead>\n",
              "    <tr style=\"text-align: right;\">\n",
              "      <th></th>\n",
              "      <th>ORGAO_DESCRICAO</th>\n",
              "    </tr>\n",
              "  </thead>\n",
              "  <tbody>\n",
              "    <tr>\n",
              "      <th>0</th>\n",
              "      <td>MINISTERIO DA ECONOMIA</td>\n",
              "    </tr>\n",
              "    <tr>\n",
              "      <th>1</th>\n",
              "      <td>MINISTERIO DA FAZENDA</td>\n",
              "    </tr>\n",
              "  </tbody>\n",
              "</table>\n",
              "</div>"
            ],
            "text/plain": [
              "          ORGAO_DESCRICAO\n",
              "0  MINISTERIO DA ECONOMIA\n",
              "1   MINISTERIO DA FAZENDA"
            ]
          },
          "metadata": {
            "tags": []
          },
          "execution_count": 77
        }
      ]
    },
    {
      "cell_type": "code",
      "metadata": {
        "id": "nI4F6ILcopp7",
        "outputId": "4a07848d-94c6-41d3-ac80-e9e5ad951031",
        "colab": {
          "base_uri": "https://localhost:8080/",
          "height": 140
        }
      },
      "source": [
        "start = time.time()\n",
        "\n",
        "query = \"\"\"\n",
        "SELECT DISTINCT\n",
        "  ORGAO_DESCRICAO\n",
        "FROM\n",
        "  ORGAO\n",
        "NATURAL JOIN\n",
        "  (SELECT * FROM DESPESA WHERE DESPESA.ID_ANO = '2020')\n",
        "NATURAL JOIN\n",
        "  (SELECT * FROM ORCAMENTO WHERE ORCAMENTO.UNIDADE_ORCAMENTARIA_DESCRICAO = 'MINISTERIO DA FAZENDA')\n",
        "\"\"\"\n",
        "\n",
        "finish = time.time()\n",
        "consulta_2 = finish-start\n",
        "\n",
        "print('Consulta realizada em %.10f' %consulta_2,'segundos\\n')\n",
        "df = pd.read_sql_query(query, conn)\n",
        "df"
      ],
      "execution_count": null,
      "outputs": [
        {
          "output_type": "stream",
          "text": [
            "Consulta realizada em 0.0000307560 segundos\n",
            "\n"
          ],
          "name": "stdout"
        },
        {
          "output_type": "execute_result",
          "data": {
            "text/html": [
              "<div>\n",
              "<style scoped>\n",
              "    .dataframe tbody tr th:only-of-type {\n",
              "        vertical-align: middle;\n",
              "    }\n",
              "\n",
              "    .dataframe tbody tr th {\n",
              "        vertical-align: top;\n",
              "    }\n",
              "\n",
              "    .dataframe thead th {\n",
              "        text-align: right;\n",
              "    }\n",
              "</style>\n",
              "<table border=\"1\" class=\"dataframe\">\n",
              "  <thead>\n",
              "    <tr style=\"text-align: right;\">\n",
              "      <th></th>\n",
              "      <th>ORGAO_DESCRICAO</th>\n",
              "    </tr>\n",
              "  </thead>\n",
              "  <tbody>\n",
              "    <tr>\n",
              "      <th>0</th>\n",
              "      <td>MINISTERIO DA ECONOMIA</td>\n",
              "    </tr>\n",
              "    <tr>\n",
              "      <th>1</th>\n",
              "      <td>MINISTERIO DA FAZENDA</td>\n",
              "    </tr>\n",
              "  </tbody>\n",
              "</table>\n",
              "</div>"
            ],
            "text/plain": [
              "          ORGAO_DESCRICAO\n",
              "0  MINISTERIO DA ECONOMIA\n",
              "1   MINISTERIO DA FAZENDA"
            ]
          },
          "metadata": {
            "tags": []
          },
          "execution_count": 78
        }
      ]
    },
    {
      "cell_type": "code",
      "metadata": {
        "id": "0lmXxMSm-lE8",
        "outputId": "5c3db4e1-ec5c-4e78-ed14-bab3600917c5",
        "colab": {
          "base_uri": "https://localhost:8080/",
          "height": 290
        }
      },
      "source": [
        "query_df = pd.DataFrame({'Consultas':['1','2'],'Tempo':[consulta_1,consulta_2]})\n",
        "axis = query_df.plot.bar(x='Consultas',y='Tempo',rot=0)"
      ],
      "execution_count": null,
      "outputs": [
        {
          "output_type": "display_data",
          "data": {
            "image/png": "[encoded data removed]",
            "text/plain": [
              "<Figure size 432x288 with 1 Axes>"
            ]
          },
          "metadata": {
            "tags": [],
            "needs_background": "light"
          }
        }
      ]
    },
    {
      "cell_type": "markdown",
      "metadata": {
        "id": "uNwuR_iUMsyG"
      },
      "source": [
        "## 6.4 Duas consultas envolvendo agregação sobre junção de duas ou mais relações"
      ]
    },
    {
      "cell_type": "markdown",
      "metadata": {
        "id": "xfXU7jddMsyH"
      },
      "source": [
        "### 6.4.1 Consulta 9 (duas versões)\n",
        "\n",
        "Retornar a quantidade de despesas envolvendo a subfunção “Ensino Superior” em 2020."
      ]
    },
    {
      "cell_type": "code",
      "metadata": {
        "id": "OLIOEw-Poq1z",
        "outputId": "8ca1348d-acfc-49cf-818f-05addb9039ed",
        "colab": {
          "base_uri": "https://localhost:8080/",
          "height": 110
        }
      },
      "source": [
        "start = time.time()\n",
        "\n",
        "query = \"\"\"\n",
        "SELECT \n",
        "  COUNT(COD_DESPESA)\n",
        "FROM\n",
        "  DESPESA AS D, DETALHAMENTO_FUNCAO AS DF, SUBFUNCAO AS SF\n",
        "WHERE\n",
        "  D.COD_DETALHAMENTO = DF.COD_DETALHAMENTO AND\n",
        "  DF.ID_SUBFUNCAO_PT = SF.ID_SUBFUNCAO_PT AND\n",
        "  SF.NO_SUBFUNCAO_PT = \"ENSINO SUPERIOR\" AND\n",
        "  D.ID_ANO = 2020\n",
        "\"\"\"\n",
        "\n",
        "finish = time.time()\n",
        "consulta_1 = finish-start\n",
        "\n",
        "print('Consulta realizada em %.10f' %consulta_1,'segundos\\n')\n",
        "df = pd.read_sql_query(query, conn)\n",
        "df"
      ],
      "execution_count": null,
      "outputs": [
        {
          "output_type": "stream",
          "text": [
            "Consulta realizada em 0.0000591278 segundos\n",
            "\n"
          ],
          "name": "stdout"
        },
        {
          "output_type": "execute_result",
          "data": {
            "text/html": [
              "<div>\n",
              "<style scoped>\n",
              "    .dataframe tbody tr th:only-of-type {\n",
              "        vertical-align: middle;\n",
              "    }\n",
              "\n",
              "    .dataframe tbody tr th {\n",
              "        vertical-align: top;\n",
              "    }\n",
              "\n",
              "    .dataframe thead th {\n",
              "        text-align: right;\n",
              "    }\n",
              "</style>\n",
              "<table border=\"1\" class=\"dataframe\">\n",
              "  <thead>\n",
              "    <tr style=\"text-align: right;\">\n",
              "      <th></th>\n",
              "      <th>COUNT(COD_DESPESA)</th>\n",
              "    </tr>\n",
              "  </thead>\n",
              "  <tbody>\n",
              "    <tr>\n",
              "      <th>0</th>\n",
              "      <td>9329</td>\n",
              "    </tr>\n",
              "  </tbody>\n",
              "</table>\n",
              "</div>"
            ],
            "text/plain": [
              "   COUNT(COD_DESPESA)\n",
              "0                9329"
            ]
          },
          "metadata": {
            "tags": []
          },
          "execution_count": 80
        }
      ]
    },
    {
      "cell_type": "code",
      "metadata": {
        "id": "SOG5ygWAoq47",
        "outputId": "a4771553-17e8-401e-960e-d8ad82594662",
        "colab": {
          "base_uri": "https://localhost:8080/",
          "height": 110
        }
      },
      "source": [
        "start = time.time()\n",
        "\n",
        "query = \"\"\"\n",
        "SELECT \n",
        "  COUNT(PAGAMENTOS_TOTAIS)\n",
        "FROM\n",
        "  DESPESA AS D\n",
        "NATURAL JOIN\n",
        "  DETALHAMENTO_FUNCAO AS DF\n",
        "NATURAL JOIN\n",
        "  SUBFUNCAO AS SF\n",
        "WHERE\n",
        "  NO_SUBFUNCAO_PT = 'ENSINO SUPERIOR' AND\n",
        "  ID_ANO = '2020'\n",
        "\"\"\"\n",
        "\n",
        "finish = time.time()\n",
        "consulta_2 = finish-start\n",
        "\n",
        "print('Consulta realizada em %.10f' %consulta_2,'segundos\\n')\n",
        "df = pd.read_sql_query(query, conn)\n",
        "df"
      ],
      "execution_count": null,
      "outputs": [
        {
          "output_type": "stream",
          "text": [
            "Consulta realizada em 0.0000312328 segundos\n",
            "\n"
          ],
          "name": "stdout"
        },
        {
          "output_type": "execute_result",
          "data": {
            "text/html": [
              "<div>\n",
              "<style scoped>\n",
              "    .dataframe tbody tr th:only-of-type {\n",
              "        vertical-align: middle;\n",
              "    }\n",
              "\n",
              "    .dataframe tbody tr th {\n",
              "        vertical-align: top;\n",
              "    }\n",
              "\n",
              "    .dataframe thead th {\n",
              "        text-align: right;\n",
              "    }\n",
              "</style>\n",
              "<table border=\"1\" class=\"dataframe\">\n",
              "  <thead>\n",
              "    <tr style=\"text-align: right;\">\n",
              "      <th></th>\n",
              "      <th>COUNT(PAGAMENTOS_TOTAIS)</th>\n",
              "    </tr>\n",
              "  </thead>\n",
              "  <tbody>\n",
              "    <tr>\n",
              "      <th>0</th>\n",
              "      <td>9329</td>\n",
              "    </tr>\n",
              "  </tbody>\n",
              "</table>\n",
              "</div>"
            ],
            "text/plain": [
              "   COUNT(PAGAMENTOS_TOTAIS)\n",
              "0                      9329"
            ]
          },
          "metadata": {
            "tags": []
          },
          "execution_count": 81
        }
      ]
    },
    {
      "cell_type": "code",
      "metadata": {
        "id": "9urNEfad-mlL",
        "outputId": "88a99545-88fa-4a95-c2d5-5a778fa01214",
        "colab": {
          "base_uri": "https://localhost:8080/",
          "height": 290
        }
      },
      "source": [
        "query_df = pd.DataFrame({'Consultas':['1','2'],'Tempo':[consulta_1,consulta_2]})\n",
        "axis = query_df.plot.bar(x='Consultas',y='Tempo',rot=0)"
      ],
      "execution_count": null,
      "outputs": [
        {
          "output_type": "display_data",
          "data": {
            "image/png": "[encoded data removed]",
            "text/plain": [
              "<Figure size 432x288 with 1 Axes>"
            ]
          },
          "metadata": {
            "tags": [],
            "needs_background": "light"
          }
        }
      ]
    },
    {
      "cell_type": "markdown",
      "metadata": {
        "id": "BhjKBOsUMsyH"
      },
      "source": [
        "### 6.4.2 Consulta 10 (duas versões)\n",
        "\n",
        "Retornar o nome do programa que possui a maior soma de pagamentos totais."
      ]
    },
    {
      "cell_type": "code",
      "metadata": {
        "id": "RZ2zDxZvorXo",
        "outputId": "a1932f97-7d16-4504-9294-10cb34f228cc",
        "colab": {
          "base_uri": "https://localhost:8080/",
          "height": 110
        }
      },
      "source": [
        "start = time.time()\n",
        "\n",
        "\n",
        "query = \"\"\"\n",
        "SELECT\n",
        "  P.NO_PROGRAMA_PT\n",
        "FROM\n",
        "  PROGRAMA as P, DESPESA as D\n",
        "WHERE\n",
        "  P.ID_PROGRAMA_PT = D.ID_PROGRAMA_PT\n",
        "GROUP BY\n",
        "  D.PAGAMENTOS_TOTAIS\n",
        "ORDER BY\n",
        "  SUM(D.PAGAMENTOS_TOTAIS) DESC\n",
        "LIMIT 1\n",
        "\"\"\"\n",
        "\n",
        "finish = time.time()\n",
        "consulta_1 = finish-start\n",
        "\n",
        "print('Consulta realizada em %.10f' %consulta_1,'segundos\\n')\n",
        "df = pd.read_sql_query(query, conn)\n",
        "df"
      ],
      "execution_count": null,
      "outputs": [
        {
          "output_type": "stream",
          "text": [
            "Consulta realizada em 0.0000474453 segundos\n",
            "\n"
          ],
          "name": "stdout"
        },
        {
          "output_type": "execute_result",
          "data": {
            "text/html": [
              "<div>\n",
              "<style scoped>\n",
              "    .dataframe tbody tr th:only-of-type {\n",
              "        vertical-align: middle;\n",
              "    }\n",
              "\n",
              "    .dataframe tbody tr th {\n",
              "        vertical-align: top;\n",
              "    }\n",
              "\n",
              "    .dataframe thead th {\n",
              "        text-align: right;\n",
              "    }\n",
              "</style>\n",
              "<table border=\"1\" class=\"dataframe\">\n",
              "  <thead>\n",
              "    <tr style=\"text-align: right;\">\n",
              "      <th></th>\n",
              "      <th>NO_PROGRAMA_PT</th>\n",
              "    </tr>\n",
              "  </thead>\n",
              "  <tbody>\n",
              "    <tr>\n",
              "      <th>0</th>\n",
              "      <td>OPERACOES ESPECIAIS: SERVICO DA DIVIDA INTERNA...</td>\n",
              "    </tr>\n",
              "  </tbody>\n",
              "</table>\n",
              "</div>"
            ],
            "text/plain": [
              "                                      NO_PROGRAMA_PT\n",
              "0  OPERACOES ESPECIAIS: SERVICO DA DIVIDA INTERNA..."
            ]
          },
          "metadata": {
            "tags": []
          },
          "execution_count": 83
        }
      ]
    },
    {
      "cell_type": "code",
      "metadata": {
        "id": "r0nPUY86oraV",
        "outputId": "30e8d11c-d39f-4c3e-dcda-a04bf703df86",
        "colab": {
          "base_uri": "https://localhost:8080/",
          "height": 110
        }
      },
      "source": [
        "start = time.time()\n",
        "\n",
        "query = \"\"\"\n",
        "SELECT\n",
        "  P.NO_PROGRAMA_PT\n",
        "FROM\n",
        "  PROGRAMA as P\n",
        "NATURAL JOIN\n",
        "  DESPESA as D\n",
        "GROUP BY\n",
        "  D.PAGAMENTOS_TOTAIS\n",
        "ORDER BY\n",
        "  SUM(D.PAGAMENTOS_TOTAIS) DESC\n",
        "LIMIT 1\n",
        "\"\"\"\n",
        "\n",
        "finish = time.time()\n",
        "consulta_2 = finish-start\n",
        "\n",
        "print('Consulta realizada em %.10f' %consulta_2,'segundos\\n')\n",
        "df = pd.read_sql_query(query, conn)\n",
        "df"
      ],
      "execution_count": null,
      "outputs": [
        {
          "output_type": "stream",
          "text": [
            "Consulta realizada em 0.0000331402 segundos\n",
            "\n"
          ],
          "name": "stdout"
        },
        {
          "output_type": "execute_result",
          "data": {
            "text/html": [
              "<div>\n",
              "<style scoped>\n",
              "    .dataframe tbody tr th:only-of-type {\n",
              "        vertical-align: middle;\n",
              "    }\n",
              "\n",
              "    .dataframe tbody tr th {\n",
              "        vertical-align: top;\n",
              "    }\n",
              "\n",
              "    .dataframe thead th {\n",
              "        text-align: right;\n",
              "    }\n",
              "</style>\n",
              "<table border=\"1\" class=\"dataframe\">\n",
              "  <thead>\n",
              "    <tr style=\"text-align: right;\">\n",
              "      <th></th>\n",
              "      <th>NO_PROGRAMA_PT</th>\n",
              "    </tr>\n",
              "  </thead>\n",
              "  <tbody>\n",
              "    <tr>\n",
              "      <th>0</th>\n",
              "      <td>OPERACOES ESPECIAIS: SERVICO DA DIVIDA INTERNA...</td>\n",
              "    </tr>\n",
              "  </tbody>\n",
              "</table>\n",
              "</div>"
            ],
            "text/plain": [
              "                                      NO_PROGRAMA_PT\n",
              "0  OPERACOES ESPECIAIS: SERVICO DA DIVIDA INTERNA..."
            ]
          },
          "metadata": {
            "tags": []
          },
          "execution_count": 84
        }
      ]
    },
    {
      "cell_type": "code",
      "metadata": {
        "id": "sySUpG0y-nhs",
        "outputId": "af7a7aa0-119b-448d-bff5-3dea8ab67987",
        "colab": {
          "base_uri": "https://localhost:8080/",
          "height": 290
        }
      },
      "source": [
        "query_df = pd.DataFrame({'Consultas':['1','2'],'Tempo':[consulta_1,consulta_2]})\n",
        "axis = query_df.plot.bar(x='Consultas',y='Tempo',rot=0)"
      ],
      "execution_count": null,
      "outputs": [
        {
          "output_type": "display_data",
          "data": {
            "image/png": "[encoded data removed]",
            "text/plain": [
              "<Figure size 432x288 with 1 Axes>"
            ]
          },
          "metadata": {
            "tags": [],
            "needs_background": "light"
          }
        }
      ]
    },
    {
      "cell_type": "code",
      "metadata": {
        "id": "48z8VvmajA_q"
      },
      "source": [
        "conn.close()"
      ],
      "execution_count": null,
      "outputs": []
    },
    {
      "cell_type": "markdown",
      "metadata": {
        "id": "m6mFALx3MsyI"
      },
      "source": [
        "# 7. Autoavaliação dos membros\n",
        "\n",
        "# Ana\n",
        "Creio que tive uma participação justa no trabalho pois participei das discussões sobre o trabalho e suas decisões. Além de ter estruturado 3 das queries apresentadas e dado auxilio na produção do esquema ER.\n",
        "\n",
        "\n",
        "# Euller\n",
        "Creio que tive uma participação justa no trabalho pois auxiliei em algumas decisões tomadas com relação ao próprio banco, além de ter formatado as células para comparação do tempo de execução e realizado a primeira query.\n",
        "\n",
        "# Fernanda\n",
        "Tive participação ativa na escolha do banco de dados para o projeto. Auxiliei no tratamento de dados para geração do csv atendendo às especificações do trabalho, como também na tomada de decisões pertinentes para seu desenvolvimento.\n",
        "\n",
        "# Gilliard\n",
        "Creio ter tido uma participação justa pelo fato de ter desenvolvido a modelagem do esquema ER, 3 das 20 queries e participado das discussões acerca do trabalho e suas decisões.\n",
        "\n",
        "# Samuel\n",
        "Participei ativamente da escolha de um base de dados que fosse compátivel com o projeto. Fui responsável por tratar os dados brutos do governo para gerar um csv que posteriormente atendesse os resquisitos de entidade e relacionamento pedido no trabalho, assim como criar as tabelas em SQL respeitando a modelagem dos diagramas. Além disso contribui na própria criação do diagrama relacional, dos enunciados de algumas queries e suas repostas. "
      ]
    }
  ]
}